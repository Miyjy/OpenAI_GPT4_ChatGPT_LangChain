{
  "nbformat": 4,
  "nbformat_minor": 0,
  "metadata": {
    "colab": {
      "provenance": [],
      "toc_visible": true,
      "authorship_tag": "ABX9TyPTuqgHB8VsZoLzZITRRLta",
      "include_colab_link": true
    },
    "kernelspec": {
      "name": "python3",
      "display_name": "Python 3"
    },
    "language_info": {
      "name": "python"
    }
  },
  "cells": [
    {
      "cell_type": "markdown",
      "metadata": {
        "id": "view-in-github",
        "colab_type": "text"
      },
      "source": [
        "<a href=\"https://colab.research.google.com/github/Miyjy/OpenAI_GPT4_ChatGPT_LangChain/blob/main/3_Python%E9%96%8B%E7%99%BA%E7%92%B0%E5%A2%83%E3%81%AE%E6%BA%96%E5%82%99.ipynb\" target=\"_parent\"><img src=\"https://colab.research.google.com/assets/colab-badge.svg\" alt=\"Open In Colab\"/></a>"
      ]
    },
    {
      "cell_type": "markdown",
      "source": [
        "# OpenAI GPT-4 ChatGPT LangChain 人口知能プログラミング実践入門\n",
        "PDF版ダウンロードリンク\n",
        "\n",
        "https://www.borndigital.co.jp/book/30237.html\n",
        "\n",
        "Python3.10\n",
        "\n",
        "LlamaIndex0.6.12\n",
        "\n",
        "LangChain0.0.181"
      ],
      "metadata": {
        "id": "i0VxWYJrRCnh"
      }
    },
    {
      "cell_type": "markdown",
      "source": [
        "# Python開発環境の準備\n",
        "\n",
        "Python開発環境の概要\n",
        "\n",
        "無料で利用できるクラウドサービス「Google Colab」の利用法\n",
        "\n",
        "初心者向けPythonコーディングの紹介"
      ],
      "metadata": {
        "id": "wu3QpdIlRRVL"
      }
    },
    {
      "cell_type": "markdown",
      "source": [
        "## Pythonの概要"
      ],
      "metadata": {
        "id": "Q4TftCXVYv5X"
      }
    },
    {
      "cell_type": "markdown",
      "source": [
        "### Pythonとは"
      ],
      "metadata": {
        "id": "l7pPb6s5gyhA"
      }
    },
    {
      "cell_type": "markdown",
      "source": [
        "プログラミング言語Python（パイソン）は、高水準で解釈型の汎用プログラミング言語です。Guido van Rossum氏によって作成され、1991年に最初にリリースされました。Pythonは、シンプルさ、可読性、汎用性が特徴であり、ウェブ開発、データ分析、人工知能、科学技術計算など、さまざまな用途に広く使われています。\n",
        "\n",
        "Pythonの主な特徴:\n",
        "\n",
        "可読性と表現力：\n",
        "\n",
        "Pythonはコードの可読性を重視し、英語に似た構文を使用しています。これにより、開発者がコードを書くことや理解することが容易になります。\n",
        "\n",
        "解釈型言語：\n",
        "\n",
        "Pythonのコードは実行時にPythonインタプリタによって1行ずつ実行されます。そのため、コードを実行する前にコンパイルする必要がなく、開発プロセスがより迅速で対話的になります。\n",
        "\n",
        "高水準言語：\n",
        "\n",
        "Pythonは多くの低レベルの詳細を抽象化し、開発者に高い抽象化レベルを提供します。これにより、開発が迅速に進み、コードのメンテナンスが容易になります。\n",
        "\n",
        "多パラダイム：\n",
        "\n",
        "Pythonは手続き型、オブジェクト指向型、関数型のプログラミングスタイルなど、複数のプログラミングパラダイムをサポートしています。開発者は自分のニーズに合ったスタイルを選択できます。\n",
        "\n",
        "多機能な標準ライブラリ:\n",
        "\n",
        "Pythonには標準ライブラリが豊富に含まれており、ファイルI/O、ネットワーキング、正規表現、データ処理などのさまざまなタスクをサポートしています。これにより、一般的なタスクのためにコードをゼロから書く必要がありません。\n",
        "\n",
        "動的型付け：\n",
        "\n",
        "Pythonは動的型付け言語であり、変数の型は実行時に決定されます。変数のデータ型を明示的に宣言する必要がないため、コードの記述が柔軟になります。\n",
        "\n",
        "クロスプラットフォーム：\n",
        "\n",
        "PythonのコードはWindows、macOS、Linuxなど、さまざまなプラットフォームで修正することなく実行できます。\n",
        "\n",
        "大規模なコミュニティとエコシステム：\n",
        "\n",
        "Pythonには大規模で活発な開発者と愛好家のコミュニティがあり、多数のライブラリ、フレームワーク、ツールを含む豊富なエコシステムがあります。このエコシステムは多岐にわたるアプリケーションとユースケースをサポートしています。\n",
        "\n",
        "Pythonの汎用性と使いやすさにより、初心者から経験豊富な開発者まで、広く利用されています。ウェブ開発、データ分析、機械学習、人工知能、科学技術計算、自動化など、さまざまな分野で活用されています。\n",
        "\n",
        "\n",
        "Python3のAPIバージョンリファレンスサイト:\n",
        "\n",
        "https://docs.python.org/3.10/\n",
        "\n",
        "Python 3.13 (in development)\n",
        "Python 3.12 (pre-release)\n",
        "Python 3.11 (stable)\n",
        "Python 3.10 (security-fixes)\n",
        "Python 3.9 (security-fixes)\n",
        "Python 3.8 (security-fixes)\n",
        "\n",
        "深層学習ライブラリに利用するプログラミング言語:\n",
        "\n",
        "Pythonプログラミング言語は機械学習向けのライブラリも多く提供されるため、多くのプログラマに支持され、AI（人工知能）開発・深層学習開発のプログラミング言語のスタンダードとなっています。\n",
        "\n",
        "PytorchやTensorFlowといった深層学習ライブラリの多くも「Python」で利用できます。LlamaIndexライブラリ, LangChainライブラリやOpenAI APIサービスはPytorchやTensorFlowを内部的に使っています。\n",
        "\n",
        "Pytorch:\n",
        "\n",
        "Facebookが開発した深層学習フレームワークです。動的な計算グラフ、Pythonのネイティブサポート、CUDA対応などの便利な機能が揃っています。研究者の多くに利用されています。\n",
        "\n",
        "https://pytorch.org/\n",
        "\n",
        "TensorFlow:\n",
        "\n",
        "Googleが開発した深層学習フレームワークです。高水準APIであるKerasを利用することで、モデルの作成が非常に簡単になり、TensorFlow2.0からは、動的な計算グラフにも対応するようになりました。\n",
        "\n",
        "https://www.tensorflow.org/\n",
        "\n",
        "\n",
        "\n"
      ],
      "metadata": {
        "id": "eoCCL4kDcwxM"
      }
    },
    {
      "cell_type": "markdown",
      "source": [
        "## Google Colab (Google Colaboratory)"
      ],
      "metadata": {
        "id": "g-WnyoTXhKy8"
      }
    },
    {
      "cell_type": "markdown",
      "source": [
        "Googleが無料で提供しているPythonの開発環境プラットフォームである\n",
        "\n",
        "無料で高性能なGPUが使えるので、深層学習モデルの学習に最適である\n",
        "\n",
        "Colabの用途例:\n",
        "\n",
        "* TensorFlow の導入\n",
        "\n",
        "* ニューラル ネットワークの開発とトレーニング\n",
        "\n",
        "* TPU を利用した実験\n",
        "\n",
        "* AI リサーチの促進\n",
        "\n",
        "* チュートリアルの作成\n"
      ],
      "metadata": {
        "id": "xn2LCmOeYvxP"
      }
    },
    {
      "cell_type": "markdown",
      "source": [
        "### Google Colabの始め方"
      ],
      "metadata": {
        "id": "sNqs0_PClaJs"
      }
    },
    {
      "cell_type": "markdown",
      "source": [
        "1. Google Chromeブラウザを開く\n",
        "\n",
        "2. Googleアカウント登録\n",
        "\n",
        "Googleドライブ\n",
        "https://www/google.co.jp/drive/\n",
        "\n",
        "3. Googleアカウントログイン\n",
        "\n",
        "<!-- <figure>\n",
        "<a href=\"https://atmarkit.itmedia.co.jp/ait/articles/1812/10/news145.html\"><img src='https://raw.githubusercontent.com/Miyjy/OpenAI_GPT4_ChatGPT_LangChain/main/3/figures/fig3.1.gif' alt='Google Driveホーム画面' width='640' border='1'></a>\n",
        "<figcaption>図3.1 出所: ITmediaより. 公式Webサイト |Google Driveホーム画面</figcaption>\n",
        "</figure> -->\n",
        "\n",
        "<img src=\"https://image.itmedia.co.jp/ait/articles/1812/10/di-05.gif\" alt=\"参考図： ITmediaはアイティメディア株式会社より\">\n",
        "\n",
        "図3.1\n",
        "\n",
        "出所: ITmediaより. 公式Webサイト |Google Driveホーム画面\n",
        "\n",
        "4. 左上の「新規」ボタンをクリックし、「その他ー＞アプリを追加」を選択\n",
        "\n",
        "5. GoogleドライブとGoogle Colab※のアプリを選択する\n",
        "\n",
        "<!-- <figure>\n",
        "<a href=\"https://yukibowz.net/googledrive-appli-best5/\"><img src='https://raw.githubusercontent.com/Miyjy/OpenAI_GPT4_ChatGPT_LangChain/main/3/figures/fig3.2.jpg' alt='Google Driveの新規からその他、アプリの追加を選択するとアプリの検索画面。' width='640' border='1'></a>\n",
        "<figcaption>図3.2 出所: yukibowz.netより. 公式Webサイト |Google Driveの新規からその他、アプリの追加を選択するとアプリの検索画面</figcaption>\n",
        "</figure> -->\n",
        "\n",
        "<img src=\"https://yukibowz.net/wp-content/uploads/2016/07/%E3%82%A2%E3%83%97%E3%83%AA%E8%BF%BD%E5%8A%A0.jpg\" alt=\"参考図： yukibowz.net\">\n",
        "\n",
        "図3.2\n",
        "\n",
        "出所: yukibowz.netより. 公式Webサイト |Google Driveの新規からその他、アプリの追加を選択するとアプリの検索画面\n",
        "\n",
        "※Google Colabの場合、アプリにアイコンが表示されていないため、検索エリアにColaboratoryと入力してアプリを選択し、インストールをクリック\n",
        "\n",
        "6. 左上の「新規」ボタンをクリックし、「その他ー>Google Colaboratory」を選択\n",
        "\n",
        "<!-- <figure>\n",
        "<a href=\"https://atmarkit.itmedia.co.jp/ait/articles/1812/10/news145.html\"><img src='https://raw.githubusercontent.com/Miyjy/OpenAI_GPT4_ChatGPT_LangChain/main/3/figures/fig3.3.gif' alt='Colaboratoryノートブックの新規作成' width='640' border='1'></a>\n",
        "<figcaption>図3.3 出所: ITmediaより. 公式Webサイト |Colaboratoryノートブックの新規作成</figcaption>\n",
        "</figure> -->\n",
        "\n",
        "<img src=\"https://image.itmedia.co.jp/ait/articles/1812/10/di-12.gif\" alt=\"参考図：ITmediaはアイティメディア株式会社\">\n",
        "\n",
        "図3.3\n",
        "\n",
        "出所: ITmediaはアイティメディア株式会社より. 公式Webサイト |Colaboratoryノートブックの新規作成\n",
        "\n",
        "<!-- <figure>\n",
        "<a href=\"https://atmarkit.itmedia.co.jp/ait/articles/1812/10/news145.html\"><img src='https://raw.githubusercontent.com/Miyjy/OpenAI_GPT4_ChatGPT_LangChain/main/3/figures/fig3.4.gif' alt='Colaboratoryアプリの追加画面' width='640' border='1'></a>\n",
        "<figcaption>図3.4 出所: ITmediaより. 公式Webサイト |Colaboratoryアプリの追加画面</figcaption>\n",
        "</figure> -->\n",
        "\n",
        "<img src=\"https://image.itmedia.co.jp/ait/articles/1812/10/di-09.gif\" alt=\"参考図：ITmediaはアイティメディア株式会社\">\n",
        "\n",
        "図3.4\n",
        "\n",
        "出所: ITmediaはアイティメディア株式会社より. 公式Webサイト |Colaboratoryアプリの追加画面\n",
        "\n",
        "7. Google Colabの新規ノートブックが開く\n",
        "\n",
        "ブラウザにGoogleアカウント（個人でもECCSでもどちらでもよい）でログインした後に、以下のURLを開いてください。\n",
        "\n",
        "https://colab.research.google.com/\n",
        "\n",
        "\n",
        "<!-- <figure>\n",
        "<a href=\"https://atmarkit.itmedia.co.jp/ait/articles/1812/10/news145.html\"><img src='https://raw.githubusercontent.com/Miyjy/OpenAI_GPT4_ChatGPT_LangChain/main/3/figures/fig3.5.gif' alt='Google Colabアプリで開かれたColaboratoryノートブックファイル' width='640' border='1'></a>\n",
        "<figcaption>図3.5 出所: ITmediaより. 公式Webサイト |Google Colabアプリで開かれたColaboratoryノートブックファイル</figcaption>\n",
        "</figure> -->\n",
        "\n",
        "<img src=\"https://image.itmedia.co.jp/ait/articles/1812/11/di-16.gif\" alt=\"参考図：ITmediaはアイティメディア株式会社\">\n",
        "\n",
        "図3.5\n",
        "\n",
        "出所: ITmediaはアイティメディア株式会社より. 公式Webサイト |Google Colabアプリで開かれたColaboratoryノートブックファイル\n",
        "\n",
        "セルの上にあるツールバーの +コード をクリックすると新しいセルが追加される\n",
        "\n",
        "\n",
        "\n",
        "\n",
        "\n",
        "\n",
        "\n",
        "\n",
        "\n",
        "\n",
        "\n",
        "\n",
        "\n",
        "\n",
        "\n",
        "\n"
      ],
      "metadata": {
        "id": "vh_JeSH7Yvup"
      }
    },
    {
      "cell_type": "markdown",
      "source": [
        "### Google Colabの利用について\n",
        "\n",
        "プラットフォームのファイルをノートブックと呼ばれ、ファイル形式は .jpynb で管理している\n",
        "\n",
        "このファイルはGoogleドライブに自動的に保存される\n",
        "\n",
        "実行されたプログラミングスクリプト（Python文法）がクラウド上の仮想サーバーに保管される\n",
        "\n",
        "\n",
        "\n",
        "\n",
        "\n",
        "\n",
        "\n"
      ],
      "metadata": {
        "id": "1FO3MXbbaEbU"
      }
    },
    {
      "cell_type": "markdown",
      "source": [
        "### Google Colabの利用制限について"
      ],
      "metadata": {
        "id": "WRH6IglThpqJ"
      }
    },
    {
      "cell_type": "markdown",
      "source": [
        "無料版と有料版（Pro/Pro+/Pay As You Go)がある、有料の場合はメモリー量が多くなり、制限ルールも緩和される\n",
        "\n",
        "以下は無料版のときの利用仕様となっている\n",
        "\n",
        "項目|制限内容|\n",
        "----|--------|\n",
        "RAM|12GBまで|\n",
        "ディスク|CPU/TPUは最大107GB、GPUは最大68GBまで|\n",
        "90分ルール|何も操作せずに90分経つとリセット、このため必要なときに設定し、利用しないときは設定を変更した方がいい|\n",
        "12時間ルール|インスタンス（ノートブック）が起動してから12時間経つとリセット|\n",
        "GPUの使用制限|GPUを使い過ぎるとリセット（上限未公開）|\n",
        "\n",
        "\n",
        "90分ルールの対策:\n",
        "\n",
        "1時間毎にノートブックをアクセル（開きなおす）することで回避できる\n",
        "\n",
        "以下のコードは1時間毎にリマインドするよう指示できるプログラムである\n",
        "\n",
        "          import time\n",
        "          import datetime\n",
        "          import webbrowser\n",
        "\n",
        "          for i in range(12):\n",
        "              browse = webbrowser.get(\"chrome\")\n",
        "              browse.open(\"<任意のノートブックのURL>”）\n",
        "              print(i, datetime.datetime.today())\n",
        "              time.sleep(60*60)\n",
        "\n",
        "\n",
        "注意:このコードの実行はGPU設定でないと実行できない\n",
        "\n",
        "\n",
        "12時間ルールの対策:\n",
        "\n",
        "以下のコードは12時間毎にリマインドするよう指示できるプログラムである\n",
        "\n",
        "      !cat/proc/uptime | awk '{printf(\"残り時間：%.2f\", 12-$1/60/60)}'\n",
        "\n",
        "\n",
        "これらの設定不備などによりリセットされてもデータの永続化をしていれば問題ない\n",
        "\n",
        "次のGoogleドライブ利用についてデータの永続化をご覧ください\n",
        "\n",
        "\n",
        "\n",
        "\n",
        "\n",
        "\n",
        "\n",
        "\n"
      ],
      "metadata": {
        "id": "n6-kpSUncLOj"
      }
    },
    {
      "cell_type": "markdown",
      "source": [
        "### GPU(Graphic processing unit)/TPU(Tensor processing unit)の利用について"
      ],
      "metadata": {
        "id": "LQojHSkNhwq4"
      }
    },
    {
      "cell_type": "markdown",
      "source": [
        "ＧＰＵの機能:\n",
        "\n",
        "Google Colabの無料版で利用できるGPU名はTesla T4（15GB）である、LlamaIndexやLangChainをローカルでの深層学習モデルの推論やベクトルデータベースの検索などにはGPUが必要である\n",
        "\n",
        "ＴＰＵの機能:\n",
        "\n",
        "Googleが開発した機械学習専用のハードウェアアクセラレータであり、機械学習の高速化を目的として設計され、TensorFlow関係のコードのパッケージ利用にはTPUが必要である\n",
        "\n",
        "機能設定:\n",
        "\n",
        "ツールバーメニュー ー＞ 編集 ー＞ ノートブックの設定 ー＞ GPU/TPU/Noneどれかを選択\n",
        "\n",
        "（一般的な利用はNoneで十分、人工知能学習の利用についてはGPUまたはTPUを選択）\n",
        "\n",
        "GPU/TPU無料版の場合使いすぎるとリセットされる（上限非公開）\n",
        "\n",
        "<!-- <figure>\n",
        "<a href=\"https://www.skillupai.com/blog/tech/google-colaboratory-3/\"><img src='https://raw.githubusercontent.com/Miyjy/OpenAI_GPT4_ChatGPT_LangChain/main/3/figures/fig3.6.png' alt='Colabの環境をGPUに設定するため、「ハードウェア アクセラレータ」を「GPU」に変更して「保存」をする画面' width='640' border='1'></a>\n",
        "<figcaption>図3.6 出所: Skill Up AIより. 公式Webサイト |Colabの環境をGPUに設定するため、「ハードウェア アクセラレータ」を「GPU」に変更して「保存」をする画面</figcaption>\n",
        "</figure> -->\n",
        "\n",
        "<img src=\"https://www.skillupai.com/wp-content/uploads/2022/04/google-colaboratory-3_06.png.webp\" alt=\"参考図：Skill Up AIより\">\n",
        "\n",
        "図3.6\n",
        "\n",
        "出所: Skill Up AIより. 公式Webサイト |Colabの環境をGPUに設定するため、「ハードウェア アクセラレータ」を「GPU」に変更して「保存」をする画面\n"
      ],
      "metadata": {
        "id": "QsaCi2j81BDJ"
      }
    },
    {
      "cell_type": "markdown",
      "source": [
        "### Google Driveの利用について"
      ],
      "metadata": {
        "id": "MugrIglgiHMg"
      }
    },
    {
      "cell_type": "markdown",
      "source": [
        "Googleドライブに作業フォルダを作成することで、データを永続化できる、リセットされても再開できる\n",
        "\n",
        "フォルダ作成の流れ:\n",
        "\n",
        "1.ドライブにフォルダを作る前にコードのセルに以下のコードを事前に実行し、接続を許可する必要がある\n",
        "\n",
        "    from google.colab import drive\n",
        "    drive.mount(\"/content/drive\")\n",
        "\n",
        "2.実行が成功すると Mounted at /content/drive と表示される\n",
        "\n",
        "\n",
        "3.ドライブに\"work”というフォルダを作るときにコードのセルに以下のコードを事前に実行する必要がある\n",
        "\n",
        "    import os\n",
        "    os.makedirs(\"/content/drive/My Drive/work\", exist_ok=True)\n",
        "    %cd \"/content/drive/My Drive/work\"\n",
        "\n",
        "4.実行が成功すると /content/drive/My Drive/work と表示される\n",
        "   "
      ],
      "metadata": {
        "id": "VqsDj9oP0wfz"
      }
    },
    {
      "cell_type": "code",
      "source": [
        "    #1\n",
        "    from google.colab import drive\n",
        "    drive.mount(\"/content/drive\")"
      ],
      "metadata": {
        "colab": {
          "base_uri": "https://localhost:8080/"
        },
        "id": "jqs3ZtANvDvA",
        "outputId": "fe174003-c9cc-4292-ebd8-d613f331a865"
      },
      "execution_count": null,
      "outputs": [
        {
          "output_type": "stream",
          "name": "stdout",
          "text": [
            "Mounted at /content/drive\n"
          ]
        }
      ]
    },
    {
      "cell_type": "code",
      "source": [
        "    #3\n",
        "    import os\n",
        "    os.makedirs(\"/content/drive/My Drive/work\", exist_ok=True)\n",
        "    %cd \"/content/drive/My Drive/work\""
      ],
      "metadata": {
        "colab": {
          "base_uri": "https://localhost:8080/"
        },
        "id": "8cZMsML_vFuY",
        "outputId": "7b695424-f969-490c-c693-cc56c0d6b7a9"
      },
      "execution_count": null,
      "outputs": [
        {
          "output_type": "stream",
          "name": "stdout",
          "text": [
            "/content/drive/My Drive/work\n"
          ]
        }
      ]
    },
    {
      "cell_type": "markdown",
      "source": [
        "### Google Colabの画面構成"
      ],
      "metadata": {
        "id": "392xfsGGjDq4"
      }
    },
    {
      "cell_type": "markdown",
      "source": [
        "#### コードセルの書き込みや実行機能ボタン"
      ],
      "metadata": {
        "id": "XVcms7riOoBk"
      }
    },
    {
      "cell_type": "markdown",
      "source": [
        "<!-- <figure>\n",
        "<a href=\"https://atmarkit.itmedia.co.jp/ait/articles/1812/11/news146.html\"><img src='https://raw.githubusercontent.com/Miyjy/OpenAI_GPT4_ChatGPT_LangChain/main/3/figures/fig3.7.gif' alt='コードセルの操作方法' width='640' border='1'></a>\n",
        "<figcaption>図3.7 出所: ITmediaより. 公式Webサイト |コードセルの操作方法</figcaption>\n",
        "</figure> -->\n",
        "\n",
        "<img src=\"https://image.itmedia.co.jp/ait/articles/1812/11/di-17.gif\" alt=\"参考図：ITmediaはアイティメディア株式会社\">\n",
        "\n",
        "図3.7\n",
        "\n",
        "出所: ITmediaより. 公式Webサイト |コードセルの操作方法\n",
        "\n",
        "△をクリックするとコードが実行される\n",
        "\n",
        "コードセルの下に結果が表示される\n",
        "\n",
        "ツールバーの「 + コード」はコードセルの新規追加ボタン\n",
        "\n",
        "ツールバーの「 + テキスト」はテキストセルの新規追加ボタン\n",
        "\n",
        "\n",
        "\n",
        "\n",
        "\n",
        "\n",
        "\n",
        "\n",
        "\n",
        "\n",
        "\n",
        "\n",
        "\n",
        "\n",
        "\n",
        "\n",
        "\n",
        "\n",
        "\n",
        "\n",
        "\n",
        "\n",
        "\n",
        "\n",
        "\n",
        "\n",
        "\n",
        "\n",
        "\n"
      ],
      "metadata": {
        "id": "kCwK4ZulZ0yz"
      }
    },
    {
      "cell_type": "markdown",
      "source": [
        "#### テキストセル追加ボタン"
      ],
      "metadata": {
        "id": "5b_fJIHtOw6E"
      }
    },
    {
      "cell_type": "markdown",
      "source": [
        "<!-- <figure>\n",
        "<a href=\"https://atmarkit.itmedia.co.jp/ait/articles/1812/11/news146.html\"><img src='https://raw.githubusercontent.com/Miyjy/OpenAI_GPT4_ChatGPT_LangChain/main/3/figures/fig3.8.gif' alt='テキストセルの挿入方法' width='640' border='1'></a>\n",
        "<figcaption>図3.8 出所: ITmediaより. 公式Webサイト |テキストセルの挿入方法</figcaption>\n",
        "</figure> -->\n",
        "\n",
        "<img src=\"https://image.itmedia.co.jp/ait/articles/1812/11/di-20.gif\" alt=\"参考図：ITmediaはアイティメディア株式会社\">\n",
        "\n",
        "図3.8\n",
        "\n",
        "出所: ITmediaより. 公式Webサイト |テキストセルの挿入方法"
      ],
      "metadata": {
        "id": "QGYSj-iOO8vu"
      }
    },
    {
      "cell_type": "markdown",
      "source": [
        "#### コードセルの挿入ボタン"
      ],
      "metadata": {
        "id": "DaSchJw2PlRy"
      }
    },
    {
      "cell_type": "markdown",
      "source": [
        "<!-- <figure>\n",
        "<a href=\"https://atmarkit.itmedia.co.jp/ait/articles/1812/11/news146.html\"><img src='https://raw.githubusercontent.com/Miyjy/OpenAI_GPT4_ChatGPT_LangChain/main/3/figures/fig3.9.gif' alt='コードセルの挿入方法' width='640' border='1'></a>\n",
        "<figcaption>図3.9 出所: ITmediaより. 公式Webサイト |コードセルの挿入方法</figcaption>\n",
        "</figure> -->\n",
        "\n",
        "<img src=\"https://image.itmedia.co.jp/ait/articles/1812/11/di-19.gif\" alt=\"参考図：ITmediaはアイティメディア株式会社\">\n",
        "\n",
        "図3.9\n",
        "\n",
        "出所: ITmediaより. 公式Webサイト |コードセルの挿入方法\n"
      ],
      "metadata": {
        "id": "b3EVOOnfPkfh"
      }
    },
    {
      "cell_type": "markdown",
      "source": [
        "#### テキスト記入とレビュー表示画面"
      ],
      "metadata": {
        "id": "R2olrTH0QXod"
      }
    },
    {
      "cell_type": "markdown",
      "source": [
        "*テキスト作成中は両面表示状態になっています。\n",
        "\n",
        "<!-- <figure>\n",
        "<a href=\"https://atmarkit.itmedia.co.jp/ait/articles/1812/11/news146.html\"><img src='https://raw.githubusercontent.com/Miyjy/OpenAI_GPT4_ChatGPT_LangChain/main/3/figures/fig3.10.gif' alt='テキスト作成中の画面表示状態' width='640' border='1'></a>\n",
        "<figcaption>図3.10 出所: ITmediaより. 公式Webサイト |テキスト作成中の画面表示状態</figcaption>\n",
        "</figure> -->\n",
        "\n",
        "<img src=\"https://image.itmedia.co.jp/ait/articles/1812/11/di-21.gif\" alt=\"参考図：ITmediaはアイティメディア株式会社\">\n",
        "\n",
        "図3.10\n",
        "\n",
        "出所: ITmediaより. 公式Webサイト |テキスト作成中の画面表示状態"
      ],
      "metadata": {
        "id": "Fm_Z4TN6QX_t"
      }
    },
    {
      "cell_type": "markdown",
      "source": [
        "\n",
        "#### テキスト・タイトルの目出し機能ボタン"
      ],
      "metadata": {
        "id": "pw1CCoodRA85"
      }
    },
    {
      "cell_type": "markdown",
      "source": [
        "見出し（ヘッダー）は、ドキュメント全体に階層構造（いわゆる章や節など）を作るのに欠かせない\n",
        "\n",
        "例えば、1行の文を見出しに加工したい場合は、その行の先頭に#という記号を付けるだけである\n",
        "\n",
        "以下に示すとおり、##、###のように#の数を増やすことで、見出しの階層構造を表現できる\n",
        "\n",
        "Markdownのコード例\n",
        "\n",
        "レベル1の見出ししたいとき\n",
        "\n",
        "    #\n",
        "    ## レベル2の見出し\n",
        "    ### レベル3の見出し\n",
        "\n",
        "<!-- <figure>\n",
        "<a href=\"https://atmarkit.itmedia.co.jp/ait/articles/1812/11/news146.html\"><img src='https://raw.githubusercontent.com/Miyjy/OpenAI_GPT4_ChatGPT_LangChain/main/3/figures/fig3.11.gif' alt='Markdownフォーマット見出しボタン' width='640' border='1'></a>\n",
        "<figcaption>図3.11 出所: ITmediaより. 公式Webサイト |Markdownフォーマット見出しボタン</figcaption>\n",
        "</figure> -->\n",
        "\n",
        "<img src=\"https://image.itmedia.co.jp/ait/articles/1812/11/di-22.gif\" alt=\"参考図：ITmediaはアイティメディア株式会社\">\n",
        "\n",
        "図3.11\n",
        "\n",
        "出所: ITmediaより. 公式Webサイト |Markdownフォーマット見出しボタン"
      ],
      "metadata": {
        "id": "tApkJL2FRBgn"
      }
    },
    {
      "cell_type": "markdown",
      "source": [
        "#### 目次表示ボタン"
      ],
      "metadata": {
        "id": "Wqw1ZZdiSd7_"
      }
    },
    {
      "cell_type": "markdown",
      "source": [
        "目次欄にはテキスト欄に記入したタイトルがかてに表示される\n",
        "\n",
        "目次を見たい場合は > をクリックするとタイトルが見出し設定通りに表示される\n",
        "\n",
        "<!-- <figure>\n",
        "<a href=\"https://atmarkit.itmedia.co.jp/ait/articles/1812/11/news146.html\"><img src='https://raw.githubusercontent.com/Miyjy/OpenAI_GPT4_ChatGPT_LangChain/main/3/figures/fig3.12.gif' alt='目次表示ボタン' width='640' border='1'></a>\n",
        "<figcaption>図3.12 出所: ITmediaより. 公式Webサイト |目次表示ボタン</figcaption>\n",
        "</figure> -->\n",
        "\n",
        "<img src=\"https://image.itmedia.co.jp/ait/articles/1812/11/di-23.gif\" alt=\"参考図：ITmediaはアイティメディア株式会社\">\n",
        "\n",
        "図3.12\n",
        "\n",
        "出所: ITmediaより. 公式Webサイト |目次表示ボタン"
      ],
      "metadata": {
        "id": "BLFDUWdLSeUd"
      }
    },
    {
      "cell_type": "markdown",
      "source": [
        "#### Colabサーバー接続確認ボタン"
      ],
      "metadata": {
        "id": "9uNyKjYMSmPX"
      }
    },
    {
      "cell_type": "markdown",
      "source": [
        "Colabサーバー接続が有効な場合、ランタイム（ノートブック使用中）に接続ができている状態といい、接続済という表示に変わる\n",
        "\n",
        "通常は自動的に接続されるが、使用時間制限などにより接続が切れる場合がある\n",
        "\n",
        "そのときは再度接続をクリックするとよい\n",
        "\n",
        "<!-- <figure>\n",
        "<a href=\"https://atmarkit.itmedia.co.jp/ait/articles/1812/11/news146.html\"><img src='https://raw.githubusercontent.com/Miyjy/OpenAI_GPT4_ChatGPT_LangChain/main/3/figures/fig3.13.gif' alt='Colabサーバー接続確認ボタン' width='640' border='1'></a>\n",
        "<figcaption>図3.13 出所: ITmediaより. 公式Webサイト |Colabサーバー接続確認ボタン</figcaption>\n",
        "</figure> -->\n",
        "\n",
        "<img src=\"https://image.itmedia.co.jp/ait/articles/1812/11/di-27.gif\" alt=\"参考図：ITmediaはアイティメディア株式会社\">\n",
        "\n",
        "図3.13\n",
        "\n",
        "出所: ITmediaより. 公式Webサイト |Colabサーバー接続確認ボタン"
      ],
      "metadata": {
        "id": "Ur7RjXyiSsP2"
      }
    },
    {
      "cell_type": "markdown",
      "source": [
        "## Pythonパッケージのインストール"
      ],
      "metadata": {
        "id": "QW9xl5WOkjCi"
      }
    },
    {
      "cell_type": "markdown",
      "source": [
        "Python演算向けに以下のパッケージをインストールできる\n",
        "\n",
        "注意：パッケージが更新される場合もあるため、最新バージョンのインストールをする必要がある\n",
        "\n",
        "    pip install numpy\n",
        "\n",
        "    pip install pandas\n",
        "\n",
        "    pip install matplotlib\n",
        "\n",
        "    pip install requests\n",
        "\n",
        "    pip install beautifulsoup4\n",
        "\n",
        "    pip install scikit-learn\n",
        "\n",
        "    pip install tensorflow\n",
        "\n",
        "    pip install torch torchvision\n",
        "\n",
        "    pip install seaborn\n",
        "\n",
        "    pip install flask\n",
        "\n",
        "    pip install django\n",
        "\n",
        "\n",
        "パッケージインストール例:\n",
        "\n",
        "1.コードセルを開く\n",
        "\n",
        "2.コードを記入\n",
        "\n",
        "3.shitt+enter または 実行ボタンを押す\n",
        "\n",
        "4.インストール完了\n",
        "\n",
        "5.成功すると下記の表示が現れる\n",
        "\n",
        "Requirement already satisfied: numpy in /usr/local/lib/python3.10/dist-packages (1.22.4)\n",
        "\n",
        "\n",
        "\n",
        "\n",
        "\n",
        "\n",
        "\n",
        "\n",
        "\n",
        "\n"
      ],
      "metadata": {
        "id": "yQvKehZLYvpl"
      }
    },
    {
      "cell_type": "code",
      "source": [
        "#2\n",
        "pip install numpy"
      ],
      "metadata": {
        "colab": {
          "base_uri": "https://localhost:8080/"
        },
        "id": "srHKIHsTsb8o",
        "outputId": "e94d5eff-f2d7-4774-e161-37fe32a468a4"
      },
      "execution_count": null,
      "outputs": [
        {
          "output_type": "stream",
          "name": "stdout",
          "text": [
            "Requirement already satisfied: numpy in /usr/local/lib/python3.10/dist-packages (1.22.4)\n"
          ]
        }
      ]
    },
    {
      "cell_type": "markdown",
      "source": [
        "### Pythonによる文字列の表示"
      ],
      "metadata": {
        "id": "WhZACaWGmCSg"
      }
    },
    {
      "cell_type": "markdown",
      "source": [
        "Pythonによる文字列の表示の流れ:\n",
        "\n",
        "1. 表示させたい文字をシングルコート’’またはダブルコート””内にテキストを入力\n",
        "\n",
        "2. '表示させたい文字Hello Worldを記入’\n",
        "\n",
        "print( ): 表示命令\n",
        "\n",
        "    print('Hello World')\n",
        "\n",
        "3. 実行\n",
        "\n",
        "4. 文字 Hello World が表示\n"
      ],
      "metadata": {
        "id": "27DhZ4O3Yu5T"
      }
    },
    {
      "cell_type": "code",
      "source": [
        "#3\n",
        "print('Hello World')"
      ],
      "metadata": {
        "colab": {
          "base_uri": "https://localhost:8080/"
        },
        "id": "ri1HtYCmwpiM",
        "outputId": "258f414b-62cb-41e6-a86b-5158b17342fd"
      },
      "execution_count": null,
      "outputs": [
        {
          "output_type": "stream",
          "name": "stdout",
          "text": [
            "Hello World\n"
          ]
        }
      ]
    },
    {
      "cell_type": "markdown",
      "source": [
        "### Python言語の変数(Variables）と演算子"
      ],
      "metadata": {
        "id": "JiyUzrt-mhS1"
      }
    },
    {
      "cell_type": "markdown",
      "source": [
        "Python言語の変数(Variables）と演算子表示の流れ:\n",
        "\n",
        "1.変数をa,b,cと指定して定義する\n",
        "\n",
        "    a=1　（a変数を整数1とする）\n",
        "    b=2  （b変数を整数2とする）\n",
        "    c=a+b（c変数を変数aとbの足し演算子とする）\n",
        "\n",
        "2.変数a,b,c表示命令をする\n",
        "\n",
        ", は区切りの意味\n",
        "\n",
        "(  )なかに入れると引数と呼ばれる\n",
        "\n",
        "print( ): 表示命令\n",
        "\n",
        "    print(a,b,c)\n",
        "\n",
        "3. 実行\n",
        "\n",
        "4. 定義した式通りに結果が表示される\n",
        "\n",
        "1 2 3"
      ],
      "metadata": {
        "id": "qGBK5QrJYu27"
      }
    },
    {
      "cell_type": "code",
      "source": [
        "#Python言語の変数(Variables）と演算子表示\n",
        "a = 1\n",
        "b = 2\n",
        "c = a + b\n",
        "print(a,b,c)"
      ],
      "metadata": {
        "colab": {
          "base_uri": "https://localhost:8080/"
        },
        "id": "54b0UIcwzRD-",
        "outputId": "c4907613-b419-4366-c454-1212c1f6ec95"
      },
      "execution_count": null,
      "outputs": [
        {
          "output_type": "stream",
          "name": "stdout",
          "text": [
            "1 2 3\n"
          ]
        }
      ]
    },
    {
      "cell_type": "markdown",
      "source": [
        "#### 例1:Pythonによる文字列に関する文法"
      ],
      "metadata": {
        "id": "TO-lMAJHYu0P"
      }
    },
    {
      "cell_type": "markdown",
      "source": [
        "テキストを定義して表示する流れ:\n",
        "\n",
        "1. テキストを定義する\n",
        "\n",
        "    text = 'Hello World'\n",
        "\n",
        "2. 定義した名前で表示命令をする\n",
        "\n",
        "print( ): 表示命令\n",
        "\n",
        "    print(text)\n",
        "\n",
        "3.実行\n",
        "\n",
        "4. Hello Worldが表示される"
      ],
      "metadata": {
        "id": "OxAecRDRhfkc"
      }
    },
    {
      "cell_type": "code",
      "source": [
        "#例１\n",
        "text = 'Hello World'\n",
        "print(text)"
      ],
      "metadata": {
        "colab": {
          "base_uri": "https://localhost:8080/"
        },
        "id": "y-MvBG_81mPA",
        "outputId": "873f1617-8348-46f2-c9e6-7111e44953b9"
      },
      "execution_count": null,
      "outputs": [
        {
          "output_type": "stream",
          "name": "stdout",
          "text": [
            "Hello World\n"
          ]
        }
      ]
    },
    {
      "cell_type": "markdown",
      "source": [
        "#### 例２:連結表示を指定する"
      ],
      "metadata": {
        "id": "Isc7I66ZpFkx"
      }
    },
    {
      "cell_type": "markdown",
      "source": [
        "連結表示を指定する流れ：\n",
        "\n",
        "1. 表示させたい文字列の連結定義をする、+ サインで連結させる’’で区切る\n",
        "\n",
        "'Hello' + 'World'\n",
        "\n",
        "2. 表示命令\n",
        "\n",
        "    print('Hello' + 'World')\n",
        "\n",
        "3.実行\n",
        "\n",
        "4.Hello Worldが表示される\n",
        "\n",
        "つまり、コードの組み方がさまざまで同じ結果が出せることが確認できます。"
      ],
      "metadata": {
        "id": "S4JiGVkHhnR_"
      }
    },
    {
      "cell_type": "code",
      "source": [
        "#例２\n",
        "print('Hello' + 'World')"
      ],
      "metadata": {
        "colab": {
          "base_uri": "https://localhost:8080/"
        },
        "id": "JRr78a8c1mB7",
        "outputId": "b1643476-640f-41b7-d013-995ed5f52e9f"
      },
      "execution_count": null,
      "outputs": [
        {
          "output_type": "stream",
          "name": "stdout",
          "text": [
            "HelloWorld\n"
          ]
        }
      ]
    },
    {
      "cell_type": "markdown",
      "source": [
        "#### 例3:定義したtextの要素を順番決めて表示させる"
      ],
      "metadata": {
        "id": "B7HTnOu0qFr-"
      }
    },
    {
      "cell_type": "markdown",
      "source": [
        "定義したtextの要素を順番決めて表示させる流れ:\n",
        "\n",
        "1.テキストを定義する、テキスト文字（要素）数が10個ある\n",
        "\n",
        "    text = 'Hello World'\n",
        "\n",
        "2. 要素の２と３番目([1:3]は２から３番までの意味)のテキストを表示する命令\n",
        "\n",
        "    print(text[1:3])\n",
        "\n",
        "3. 実行\n",
        "\n",
        "4. elが表示される"
      ],
      "metadata": {
        "id": "fWFEmlGWhw6z"
      }
    },
    {
      "cell_type": "code",
      "source": [
        "#例3\n",
        "text = 'Hello World'\n",
        "print(text[1:3])"
      ],
      "metadata": {
        "colab": {
          "base_uri": "https://localhost:8080/"
        },
        "id": "co4fEUov2lg2",
        "outputId": "6edd4f60-4d7d-4508-b176-8bbbc7ebf3b0"
      },
      "execution_count": null,
      "outputs": [
        {
          "output_type": "stream",
          "name": "stdout",
          "text": [
            "el\n"
          ]
        }
      ]
    },
    {
      "cell_type": "markdown",
      "source": [
        "#### 例4:複数の形式（文字列・数字）を同時に表示させる"
      ],
      "metadata": {
        "id": "fTormtWCqybs"
      }
    },
    {
      "cell_type": "markdown",
      "source": [
        "複数の形式（文字列・数字）を同時に表示させる流れ:\n",
        "\n",
        "この場合複数の形式を変数別で定義をする\n",
        "\n",
        "1.複数変数a,b,cを違った形式で個別に定義する\n",
        "\n",
        "    a='Test'（a変数を文字列Testとする）\n",
        "\n",
        "    b=100  （b変数を整数100とする）\n",
        "\n",
        "    c=3.14159（c変数を浮動小数点3.14159とする）\n",
        "\n",
        "2. 変数a,b,cを3種類の表示命令で表示させる\n",
        "\n",
        "2-1.「文字列= 文字列」の表示命令\n",
        "\n",
        "    print('テスト= {}'.format(a))\n",
        "\n",
        "3-1. テスト= Testが表示される\n",
        "\n",
        "2-2.「文字列= 整数」の表示命令\n",
        "\n",
        "    print('点数= {}'.format(b))\n",
        "\n",
        "3-2. 点数= 100が表示される\n",
        "\n",
        "2-3.「文字列= 浮動小数点」の表示命令\n",
        "\n",
        "｛｝：表示エリア\n",
        "\n",
        "format( ):定義された変数の埋め込む場所を（）で指定する\n",
        "\n",
        "print( ): 表示命令\n",
        "\n",
        "    print('πの値= {}'.format(c))\n",
        "\n",
        "｛｝内に表示の指定ができる\n",
        "\n",
        "{:.2f}:浮動小数点の行数(例：２）を指定する\n",
        "\n",
        "    print('πの値= {:.2f}'.format(c))\n",
        "\n",
        "ちがう形式を同時に表示をするときは事前に変数別の定義をしておけば\n",
        "このコードで同時に表示することができる\n",
        "\n",
        "｛｝,｛｝,｛｝:３つ表示したいので表示エリアを３つ書く\n",
        "\n",
        "定義された変数の埋め込む場所も同時にカンマ区切り（a,b,c）で指定する\n",
        "\n",
        "    print('複数変数= {},{},{:.2f}'.format(a,b,c))\n",
        "\n",
        "3-3. 以下のように３種類の浮動小数点指示通りに表示される\n",
        "\n",
        "πの値= 3.14159、cをそのまま表示\n",
        "\n",
        "πの値= 3.14、２桁表示\n",
        "\n",
        "複数変数= Test,100,3.14、a b c（2桁）の表示\n",
        "\n",
        "\n",
        "\n",
        "\n",
        "\n",
        "\n",
        "\n",
        "\n",
        "\n",
        "\n",
        "\n",
        "\n",
        "\n",
        "\n"
      ],
      "metadata": {
        "id": "xIYz-FHPh5R1"
      }
    },
    {
      "cell_type": "code",
      "source": [
        "#2-1\n",
        "a='Test'\n",
        "b=100\n",
        "c=3.14159\n",
        "print('テスト= {}'.format(a))"
      ],
      "metadata": {
        "colab": {
          "base_uri": "https://localhost:8080/"
        },
        "id": "On0J1gngh4_f",
        "outputId": "9e819397-95a2-4f79-e538-cc6ca225320f"
      },
      "execution_count": null,
      "outputs": [
        {
          "output_type": "stream",
          "name": "stdout",
          "text": [
            "テスト= Test\n"
          ]
        }
      ]
    },
    {
      "cell_type": "code",
      "source": [
        "#2-2\n",
        "a='Test'\n",
        "b=100\n",
        "c=3.14159\n",
        "print('点数= {}'.format(b))"
      ],
      "metadata": {
        "colab": {
          "base_uri": "https://localhost:8080/"
        },
        "id": "83F8_Rgil5fj",
        "outputId": "e0fe0122-bd74-4822-ca5d-d781d113c248"
      },
      "execution_count": null,
      "outputs": [
        {
          "output_type": "stream",
          "name": "stdout",
          "text": [
            "点数= 100\n"
          ]
        }
      ]
    },
    {
      "cell_type": "code",
      "source": [
        "#2-3\n",
        "a='Test'\n",
        "b=100\n",
        "c=3.14159\n",
        "print('πの値= {}'.format(c))\n",
        "print('πの値= {:.2f}'.format(c))\n",
        "print('複数変数= {},{},{:.2f}'.format(a,b,c))"
      ],
      "metadata": {
        "colab": {
          "base_uri": "https://localhost:8080/"
        },
        "id": "OEKPOe_6mj1n",
        "outputId": "38b2c2b8-5550-47a3-a56d-7b60b647b65d"
      },
      "execution_count": null,
      "outputs": [
        {
          "output_type": "stream",
          "name": "stdout",
          "text": [
            "πの値= 3.14159\n",
            "πの値= 3.14\n",
            "複数変数= Test,100,3.14\n"
          ]
        }
      ]
    },
    {
      "cell_type": "markdown",
      "source": [
        "### Python言語のリスト作成\n",
        "\n"
      ],
      "metadata": {
        "id": "r9LSqn32YuxZ"
      }
    },
    {
      "cell_type": "markdown",
      "source": [
        "### Python言語のレンジによるリストの作成（数字リスト）"
      ],
      "metadata": {
        "id": "2MulSjhRv1cT"
      }
    },
    {
      "cell_type": "markdown",
      "source": [
        "Python言語のレンジによるリストの作成（数字リスト）の流れ:\n",
        "\n",
        "1.表示したい数字をレンジ決めて定義\n",
        "\n",
        "for num in range (5 ):レンジ5（0～4）の数字という意味になる\n",
        "\n",
        "    for num in range (5):\n",
        "\n",
        "2. 表示命令\n",
        "\n",
        "    print(num)\n",
        "\n",
        "3. 01234が表示される"
      ],
      "metadata": {
        "id": "tTKkAblV1Yns"
      }
    },
    {
      "cell_type": "code",
      "source": [
        "#レンジ(range)によるリストの作成\n",
        "for num in range(5):\n",
        "    print(num)\n"
      ],
      "metadata": {
        "colab": {
          "base_uri": "https://localhost:8080/"
        },
        "id": "X0OBoWO11ipM",
        "outputId": "3192f267-f005-43af-9b63-dde9f96c660b"
      },
      "execution_count": null,
      "outputs": [
        {
          "output_type": "stream",
          "name": "stdout",
          "text": [
            "0\n",
            "1\n",
            "2\n",
            "3\n",
            "4\n"
          ]
        }
      ]
    },
    {
      "cell_type": "markdown",
      "source": [
        "### Python言語のリスト作成（数字・文字列類のリスト）"
      ],
      "metadata": {
        "id": "ymT64UDvwXF0"
      }
    },
    {
      "cell_type": "markdown",
      "source": [
        "Python言語のリスト作成（数字リスト）の流れ:\n",
        "\n",
        "1. リストの定義\n",
        "\n",
        "[ ,  , ]:リストの表示エリア（複数のリストアイテムをカンマで区切る）\n",
        "\n",
        "    list = [1,2,3,4,5]\n",
        "\n",
        "2. 表示命令\n",
        "\n",
        "    print(list)\n",
        "\n",
        "3. 選択表示\n",
        "\n",
        "[0]:最初のリストアイテム（プログラミングでは0が1）\n",
        "\n",
        "    print(list[0])\n",
        "\n",
        "4. 以下のようにリストが指定された表示命令の通りに結果が得られる\n",
        "\n",
        "[1,2,3,4,5]\n",
        "\n",
        "1"
      ],
      "metadata": {
        "id": "lCRTnaMI1GxK"
      }
    },
    {
      "cell_type": "code",
      "source": [
        "#Python言語の数字リスト作成\n",
        "list = [1,2,3,4,5]\n",
        "print(list)\n",
        "print(list[0])"
      ],
      "metadata": {
        "colab": {
          "base_uri": "https://localhost:8080/"
        },
        "id": "0GAmUzBSr8lG",
        "outputId": "a44df5b3-e7a6-4e37-9d97-18b3b5e57c1e"
      },
      "execution_count": null,
      "outputs": [
        {
          "output_type": "stream",
          "name": "stdout",
          "text": [
            "[1, 2, 3, 4, 5]\n",
            "1\n"
          ]
        }
      ]
    },
    {
      "cell_type": "markdown",
      "source": [
        "Python言語のリスト作成（文字列類のリスト）の流れ:\n",
        "\n",
        "1. リストの定義\n",
        "\n",
        "[ ,  , ]:リストの表示エリア（複数のリストアイテムをカンマで区切る）\n",
        "\n",
        "    list = ['Apple', 'Banana', 'Citrus', 'Dorian', 'Grapefruit']\n",
        "\n",
        "2. 表示命令\n",
        "\n",
        "    print(list)\n",
        "\n",
        "3. 選択表示\n",
        "\n",
        "[0]:最初のリストアイテム（プログラミングでは0が1）\n",
        "\n",
        "    print(list[0])\n",
        "\n",
        "4. 以下のようにリストが指定された表示命令の通りに結果が得られる\n",
        "\n",
        "['Apple', 'Banana', 'Citrus', 'Dorian', 'Grapefruit']\n",
        "\n",
        "Apple"
      ],
      "metadata": {
        "id": "yJgdUpQDxPeX"
      }
    },
    {
      "cell_type": "code",
      "source": [
        "#Python言語の文字列リスト作成\n",
        "list = ['Apple','Banana','Citrus','Dorian','Grapefruit']\n",
        "print(list)\n",
        "print(list[0])"
      ],
      "metadata": {
        "colab": {
          "base_uri": "https://localhost:8080/"
        },
        "id": "viZTxcNOwyoj",
        "outputId": "4f3df39c-03c7-4282-92b4-bc5118ec2165"
      },
      "execution_count": null,
      "outputs": [
        {
          "output_type": "stream",
          "name": "stdout",
          "text": [
            "['Apple', 'Banana', 'Citrus', 'Dorian', 'Grapefruit']\n",
            "Apple\n"
          ]
        }
      ]
    },
    {
      "cell_type": "markdown",
      "source": [
        "#### Python言語のリストの要素の取得"
      ],
      "metadata": {
        "id": "NEffv-6Pyh9Z"
      }
    },
    {
      "cell_type": "markdown",
      "source": [
        "リストの要素取得の流れ:\n",
        "\n",
        "[ ,  , ]:リストの表示エリア（複数のリストアイテムをカンマで区切る）\n",
        "\n",
        "1.リストの定義\n",
        "\n",
        "    list = [1,2,3,4,5]\n",
        "\n",
        "2. リストの最初のアイテムを1から10へ変更するための定義\n",
        "\n",
        "list [0]:list の [0]のアイテム\n",
        "\n",
        "= 10 : を10にする\n",
        "\n",
        "    list [0] = 10\n",
        "\n",
        "3. 表示命令\n",
        "\n",
        "    print(list)\n",
        "\n",
        "4.リストのアイテムを変更して表示する\n",
        "\n",
        "[1:5]:2~5番目のリストアイテム\n",
        "\n",
        "    list [1:5]= [20,30,40]\n",
        "\n",
        "    print(list)\n",
        "\n",
        "5. 以下のようにリストが指定された表示命令の通りに結果が得られる\n",
        "\n",
        "[10,2,3,4,5]\n",
        "\n",
        "[10,20,30,40]"
      ],
      "metadata": {
        "id": "Fe5O2wN0Yurp"
      }
    },
    {
      "cell_type": "code",
      "source": [
        "#リストの要素取得\n",
        "list = [1,2,3,4,5]\n",
        "list [0] = 10\n",
        "print(list)\n",
        "list [1:5]= [20,30,40]\n",
        "print(list)"
      ],
      "metadata": {
        "colab": {
          "base_uri": "https://localhost:8080/"
        },
        "id": "tWxobfnethMk",
        "outputId": "dc499ff6-489b-44e8-f478-7d1838a4b5e4"
      },
      "execution_count": null,
      "outputs": [
        {
          "output_type": "stream",
          "name": "stdout",
          "text": [
            "[10, 2, 3, 4, 5]\n",
            "[10, 20, 30, 40]\n"
          ]
        }
      ]
    },
    {
      "cell_type": "markdown",
      "source": [
        "#### Python言語のリスト要素の追加"
      ],
      "metadata": {
        "id": "Ar6hrT75zAg8"
      }
    },
    {
      "cell_type": "markdown",
      "source": [
        "リストの要素追加の流れ:\n",
        "\n",
        "1. リストの定義\n",
        "\n",
        "’文字列’２つをリスト化する\n",
        "\n",
        "    list = ['Apple','Cherry']\n",
        "\n",
        "2.リストの追加定義\n",
        "\n",
        "リスト名のあとに .append を書くと追加するという意味になる\n",
        "\n",
        "うしろで（）内に追加したい'文字列'を書く\n",
        "\n",
        "注意：文字列は’’中に書くこと\n",
        "\n",
        "    list.append('Strawberry')\n",
        "\n",
        "3. 表示命令\n",
        "\n",
        "    print(list)\n",
        "\n",
        "4. ['Apple', 'Cherry', 'Strawberry']が表示される\n"
      ],
      "metadata": {
        "id": "TTuASdbEv-g9"
      }
    },
    {
      "cell_type": "code",
      "source": [
        "#リストの要素追加\n",
        "list = ['Apple','Cherry']\n",
        "list.append('Strawberry')\n",
        "print(list)"
      ],
      "metadata": {
        "colab": {
          "base_uri": "https://localhost:8080/"
        },
        "id": "vsFZdm-9xsNS",
        "outputId": "40793287-c03f-41a3-bfea-ed5b203867ef"
      },
      "execution_count": null,
      "outputs": [
        {
          "output_type": "stream",
          "name": "stdout",
          "text": [
            "['Apple', 'Cherry', 'Strawberry']\n"
          ]
        }
      ]
    },
    {
      "cell_type": "markdown",
      "source": [
        "#### Python言語のリスト要素の挿入"
      ],
      "metadata": {
        "id": "BjZyrPb_zXWS"
      }
    },
    {
      "cell_type": "markdown",
      "source": [
        "リストの要素挿入の流れ：\n",
        "\n",
        "1.リストの定義\n",
        "\n",
        "'文字列'3つをリスト化する\n",
        "\n",
        "    list = ['Apple','Cherry', 'Strawberry']\n",
        "\n",
        "2.リストの挿入定義\n",
        "\n",
        "リスト名のあとに .insert を書くと挿入するという意味になる\n",
        "\n",
        "うしろで（）内に挿入位置の番号(0は最初の位置）や挿入する'文字列'の'Banana'を書く\n",
        "\n",
        "    list.insert(0, 'Banana')\n",
        "\n",
        "3.表示命令\n",
        "\n",
        "    print(list)\n",
        "\n",
        "4.['Banana','Apple', 'Cherry', 'Strawberry']が表示される"
      ],
      "metadata": {
        "id": "aofZ7ZlBwMWP"
      }
    },
    {
      "cell_type": "code",
      "source": [
        "#リストの要素挿入\n",
        "list = ['Apple','Cherry','Strawberry']\n",
        "list.insert(0,'Banana')\n",
        "print(list)"
      ],
      "metadata": {
        "colab": {
          "base_uri": "https://localhost:8080/"
        },
        "id": "t1KX34-4y0on",
        "outputId": "4dc37c28-12d7-4179-d8c9-846e7a187540"
      },
      "execution_count": null,
      "outputs": [
        {
          "output_type": "stream",
          "name": "stdout",
          "text": [
            "['Banana', 'Apple', 'Cherry', 'Strawberry']\n"
          ]
        }
      ]
    },
    {
      "cell_type": "markdown",
      "source": [
        "#### Python言語のリスト要素の削除"
      ],
      "metadata": {
        "id": "Yp1vTUskzr2C"
      }
    },
    {
      "cell_type": "markdown",
      "source": [
        "リストの要素削除の流れ:\n",
        "\n",
        "1. リストの定義\n",
        "\n",
        "’文字列’４つをリスト化する\n",
        "\n",
        "    list = ['Banana', 'Apple', 'Cherry', 'Strawberry']\n",
        "\n",
        "2-1.リストの削除定義\n",
        "\n",
        "リスト名のあとに .remove を書くと削除するという意味になる\n",
        "\n",
        "うしろで（）内に削除する'文字列'の'Apple'を書く\n",
        "\n",
        "    list.remove('Apple')\n",
        "\n",
        "3.表示命令\n",
        "\n",
        "    print(list)\n",
        "\n",
        "4. ['Banana','Cherry', 'Strawberry']が表示される\n",
        "\n",
        "\n",
        "2-2.別の削除し方:\n",
        "\n",
        "del: 削除（deleteの略）\n",
        "\n",
        "delのうしろに削除したいリスト名を書いて削除アイテムの位置をできる\n",
        "\n",
        "del list[0]:listの最初[0]のアイテムを削除するという意味になる\n",
        "\n",
        "    del list[0]\n",
        "\n",
        "\n",
        "3-2.表示命令\n",
        "\n",
        "    print(list)\n",
        "\n",
        "4-2.['Cherry', 'Strawberry']が表示される\n",
        "\n",
        "\n",
        "\n",
        "\n"
      ],
      "metadata": {
        "id": "fCTIpp-twNzp"
      }
    },
    {
      "cell_type": "code",
      "source": [
        "#リストの要素削除\n",
        "list = ['Banana', 'Apple', 'Cherry', 'Strawberry']\n",
        "list.remove('Apple')\n",
        "print(list)\n",
        "del list[0]\n",
        "print(list)"
      ],
      "metadata": {
        "colab": {
          "base_uri": "https://localhost:8080/"
        },
        "id": "VrhVQ3A70c1y",
        "outputId": "d0e57344-24a7-40c7-8a23-bb9df1155b0d"
      },
      "execution_count": null,
      "outputs": [
        {
          "output_type": "stream",
          "name": "stdout",
          "text": [
            "['Banana', 'Cherry', 'Strawberry']\n",
            "['Cherry', 'Strawberry']\n"
          ]
        }
      ]
    },
    {
      "cell_type": "markdown",
      "source": [
        "### Python言語の辞書作成と取得"
      ],
      "metadata": {
        "id": "u2aa4LsExx4I"
      }
    },
    {
      "cell_type": "markdown",
      "source": [
        "辞書作成と取得の流れ:\n",
        "\n",
        "1.辞書を定義する\n",
        "\n",
        "dic = {} :辞書の定義フォーマット\n",
        "\n",
        "{' ': data, }:辞書のアイテム名'文字列’：データ（数字）\n",
        "\n",
        "    dic = {'Apple': 300,'Cherry ': 200,'Strawberry ': 3000 }\n",
        "\n",
        "2.表示命令\n",
        "\n",
        "この場合dicのリスト[]から'Apple'を取得すると命令\n",
        "\n",
        "    print(dic['Apple'])\n",
        "\n",
        "\n",
        "3. データの300が表示される"
      ],
      "metadata": {
        "id": "ZcL8POgqYuul"
      }
    },
    {
      "cell_type": "code",
      "source": [
        "#辞書作成と取得\n",
        "dic = {'Apple': 300,'Cherry ': 200,'Strawberry ': 3000 }\n",
        "print(dic['Apple'])"
      ],
      "metadata": {
        "colab": {
          "base_uri": "https://localhost:8080/"
        },
        "id": "75YNbbQE6F-S",
        "outputId": "bc3cf499-b7bb-43a7-e171-fd52253fe77a"
      },
      "execution_count": null,
      "outputs": [
        {
          "output_type": "stream",
          "name": "stdout",
          "text": [
            "300\n"
          ]
        }
      ]
    },
    {
      "cell_type": "markdown",
      "source": [
        "#### Python言語の辞書の要素更新"
      ],
      "metadata": {
        "id": "RheLCBh70fN1"
      }
    },
    {
      "cell_type": "markdown",
      "source": [
        "辞書の要素更新の流れ:\n",
        "\n",
        "1.定義した辞書のリストに対して更新したいリストを指定\n",
        "\n",
        "    dic = {'Apple': 300,'Cherry ': 200,'Strawberry ': 3000 }\n",
        "\n",
        "2.辞書の更新\n",
        "\n",
        "この場合dicのリスト[]から'Apple'を取得し、データの300を400と更新する\n",
        "\n",
        "    dic['Apple'] = 400\n",
        "\n",
        "3.更新した内容を表示命令して確認\n",
        "\n",
        "    print(dic)\n",
        "\n",
        "4.{'Apple': 400, 'Cherry ': 200, 'Strawberry ': 3000}が表示される\n"
      ],
      "metadata": {
        "id": "hP0Jwa6V42Aj"
      }
    },
    {
      "cell_type": "code",
      "source": [
        "#辞書の要素更\n",
        "dic = {'Apple': 300,'Cherry ': 200,'Strawberry ': 3000 }\n",
        "dic['Apple'] = 400\n",
        "print(dic)"
      ],
      "metadata": {
        "colab": {
          "base_uri": "https://localhost:8080/"
        },
        "id": "c2DVF3f87lJC",
        "outputId": "1c982bcc-8926-4115-dfc0-96be2df25955"
      },
      "execution_count": null,
      "outputs": [
        {
          "output_type": "stream",
          "name": "stdout",
          "text": [
            "{'Apple': 400, 'Cherry ': 200, 'Strawberry ': 3000}\n"
          ]
        }
      ]
    },
    {
      "cell_type": "markdown",
      "source": [
        "#### Python言語の辞書の要素追加"
      ],
      "metadata": {
        "id": "zLQyvx4_1Jd2"
      }
    },
    {
      "cell_type": "markdown",
      "source": [
        "辞書の要素追加の流れ:\n",
        "\n",
        "1. 定義した辞書のリストに対して要素の追加したいリストを指定\n",
        "\n",
        "    dic = {'Apple': 300,'Cherry ': 200,'Strawberry ': 3000 }\n",
        "\n",
        "2. 辞書のアイテム追加\n",
        "\n",
        "この場合dicのリスト[ ]に'Banana'を追加し、データを400とする\n",
        "\n",
        "    dic['Banana'] = 400\n",
        "\n",
        "3. 追加した内容を表示命令して確認\n",
        "\n",
        "    print(dic)\n",
        "\n",
        "4.{'Apple': 400, 'Cherry ': 200, 'Strawberry ': 3000、'Banana ': 400}が表示される"
      ],
      "metadata": {
        "id": "EOCK2zpK42dz"
      }
    },
    {
      "cell_type": "code",
      "source": [
        "#辞書の要素追加\n",
        "dic = {'Apple': 300,'Cherry ': 200,'Strawberry ': 3000 }\n",
        "dic['Banana'] = 400\n",
        "print(dic)"
      ],
      "metadata": {
        "colab": {
          "base_uri": "https://localhost:8080/"
        },
        "id": "kAOL05qB8S5L",
        "outputId": "97ecf032-c1de-42a0-d576-16ea2bf2d83a"
      },
      "execution_count": null,
      "outputs": [
        {
          "output_type": "stream",
          "name": "stdout",
          "text": [
            "{'Apple': 300, 'Cherry ': 200, 'Strawberry ': 3000, 'Banana': 400}\n"
          ]
        }
      ]
    },
    {
      "cell_type": "markdown",
      "source": [
        "#### Python言語の辞書の要素削除"
      ],
      "metadata": {
        "id": "UiRWuEaI1kAN"
      }
    },
    {
      "cell_type": "markdown",
      "source": [
        "辞書の要素削除の流れ:\n",
        "\n",
        "1.定義した辞書のリストに対して要素の削除したいリストを指定\n",
        "\n",
        "    dic = {'Apple': 300,'Cherry ': 200,'Strawberry ': 3000 }\n",
        "\n",
        "2.辞書のアイテム削除\n",
        "\n",
        "この場合dicのリスト[ ]に'Apple'を削除する\n",
        "\n",
        "    del dic['Apple']\n",
        "\n",
        "3.削除した内容を表示命令して確認\n",
        "\n",
        "    print(dic)\n",
        "\n",
        "4.{'Cherry ': 200, 'Strawberry ': 3000}が表示される"
      ],
      "metadata": {
        "id": "MpQWeMf_5B94"
      }
    },
    {
      "cell_type": "code",
      "source": [
        "#辞書の要素削除\n",
        "dic = {'Apple': 300,'Cherry ': 200,'Strawberry ': 3000 }\n",
        "del dic['Apple']\n",
        "print(dic)"
      ],
      "metadata": {
        "colab": {
          "base_uri": "https://localhost:8080/"
        },
        "id": "piooAY7c8ugC",
        "outputId": "924f5b81-decf-44ff-de80-3e7cb108c574"
      },
      "execution_count": null,
      "outputs": [
        {
          "output_type": "stream",
          "name": "stdout",
          "text": [
            "{'Cherry ': 200, 'Strawberry ': 3000}\n"
          ]
        }
      ]
    },
    {
      "cell_type": "markdown",
      "source": [
        "#### Python言語のタプル作成"
      ],
      "metadata": {
        "id": "LbzrL_WH2H7k"
      }
    },
    {
      "cell_type": "markdown",
      "source": [
        "タプル作成の流れ:\n",
        "\n",
        "1.タプルの定義\n",
        "\n",
        "    taple = (1,2,3,4)\n",
        "\n",
        "2.表示命令\n",
        "\n",
        "    print(taple)\n",
        "\n",
        "3.(1,2,3,4)が表示される"
      ],
      "metadata": {
        "id": "yhJGL8nksPTK"
      }
    },
    {
      "cell_type": "code",
      "source": [
        "#タプル作成\n",
        "taple = (1,2,3,4)\n",
        "print(taple)"
      ],
      "metadata": {
        "colab": {
          "base_uri": "https://localhost:8080/"
        },
        "id": "ntj9Pve29vLP",
        "outputId": "2f0b4da3-b5b2-4ff3-b428-b944bda684dc"
      },
      "execution_count": null,
      "outputs": [
        {
          "output_type": "stream",
          "name": "stdout",
          "text": [
            "(1, 2, 3, 4)\n"
          ]
        }
      ]
    },
    {
      "cell_type": "markdown",
      "source": [
        "#### Python言語のタプルの要素取得"
      ],
      "metadata": {
        "id": "e5qjvgbI2Tpy"
      }
    },
    {
      "cell_type": "markdown",
      "source": [
        "タプルの要素取得の流れ:\n",
        "\n",
        "1.タプルの定義\n",
        "\n",
        "    taple = (1,2,3,4)\n",
        "\n",
        "2.表示命令\n",
        "\n",
        "最初のアイテムを表示\n",
        "\n",
        "    print(taple[0])\n",
        "\n",
        "２～３番目のアイテムを表示\n",
        "\n",
        "    print(taple[1:3])\n",
        "\n",
        "3.\n",
        "\n",
        "1が表示される\n",
        "\n",
        "(2,3)が表示される"
      ],
      "metadata": {
        "id": "sYjzDVHQ96XJ"
      }
    },
    {
      "cell_type": "code",
      "source": [
        "#タプルの要素取得\n",
        "taple = (1,2,3,4)\n",
        "print(taple[0])\n",
        "print(taple[1:3])"
      ],
      "metadata": {
        "colab": {
          "base_uri": "https://localhost:8080/"
        },
        "id": "FqNwayEu-WA6",
        "outputId": "eb2fce1e-8882-467f-c4e1-3ab731787072"
      },
      "execution_count": null,
      "outputs": [
        {
          "output_type": "stream",
          "name": "stdout",
          "text": [
            "1\n",
            "(2, 3)\n"
          ]
        }
      ]
    },
    {
      "cell_type": "markdown",
      "source": [
        "### Python言語の制御構文作成"
      ],
      "metadata": {
        "id": "YvSNNYDBx4zT"
      }
    },
    {
      "cell_type": "markdown",
      "source": [
        "#### if（条件分岐）関数で制御文を書く"
      ],
      "metadata": {
        "id": "W6ibN4nK3fDx"
      }
    },
    {
      "cell_type": "markdown",
      "source": [
        "if（条件分岐）関数で制御文を書く流れ:\n",
        "\n",
        "1.数字リストを定義\n",
        "\n",
        "    numbers = [5, 8, 2, 10, 3]\n",
        "\n",
        "2.条件＞５数字を制御する関数を書く\n",
        "\n",
        "    for num in numbers:\n",
        "        if num > 5:\n",
        "\n",
        "3.表示命令\n",
        "\n",
        "        print(num)\n",
        "\n",
        "4.\n",
        "\n",
        "8\n",
        "\n",
        "10\n",
        "が表示される"
      ],
      "metadata": {
        "id": "SncUynyq-vuQ"
      }
    },
    {
      "cell_type": "code",
      "source": [
        "#if（条件分岐）関数で制御文を書く\n",
        "numbers = [5, 8, 2, 10, 3]\n",
        "\n",
        "# Print numbers greater than 5\n",
        "for num in numbers:\n",
        "    if num > 5:\n",
        "        print(num)\n"
      ],
      "metadata": {
        "colab": {
          "base_uri": "https://localhost:8080/"
        },
        "id": "V9Uk0oRDAUBB",
        "outputId": "3773896a-4788-4b2f-e3e8-608508f8d986"
      },
      "execution_count": null,
      "outputs": [
        {
          "output_type": "stream",
          "name": "stdout",
          "text": [
            "8\n",
            "10\n"
          ]
        }
      ]
    },
    {
      "cell_type": "markdown",
      "source": [
        "#### if else（条件分岐）関数で制御文を書く"
      ],
      "metadata": {
        "id": "tW8lAZUm3SPN"
      }
    },
    {
      "cell_type": "markdown",
      "source": [
        "if else（条件分岐）関数で制御文を書く流れ:\n",
        "\n",
        "if:もしもの条件\n",
        "else:もしもの条件と違った条件\n",
        "\n",
        "1.数字リストを定義\n",
        "\n",
        "numbers = [5, 8, 2, 10, 3]\n",
        "\n",
        "2.もしnumbersリスト中にnumがあるときの条件を制御する関数を書く\n",
        "\n",
        "    for num in numbers:\n",
        "\n",
        "3.数字は２と同じ（==2)ときの条件を制御する関数を書く\n",
        "\n",
        "        if num % 2 == 0:\n",
        "\n",
        "4.偶数のときにevenと書くことを表示命令とする\n",
        "\n",
        "num:数字\n",
        "\n",
        "f\"{num}:表示エリア{ }中にnumにあたる条件（数字）を表示させる\n",
        "\n",
        "            print(f\"{num} is even.\")\n",
        "\n",
        "5.上記の命令と違った条件（奇数）を表示する命令\n",
        "\n",
        "        else:\n",
        "            print(f\"{num} is odd.\")\n",
        "\n",
        "6.\n",
        "\n",
        "1 is odd.\n",
        "\n",
        "2 is even.\n",
        "\n",
        "3 is odd.\n",
        "\n",
        "4 is even.\n",
        "\n",
        "5 is odd.\n",
        "\n",
        "が表示される"
      ],
      "metadata": {
        "id": "X7nSuJ3nBW5z"
      }
    },
    {
      "cell_type": "code",
      "source": [
        "#if else（条件分岐）関数で制御文を書く\n",
        "numbers = [1, 2, 3, 4, 5]\n",
        "\n",
        "for num in numbers:\n",
        "    if num % 2 == 0:\n",
        "        print(f\"{num} is even.\")\n",
        "    else:\n",
        "        print(f\"{num} is odd.\")"
      ],
      "metadata": {
        "id": "Hn6kG7RGBIr0",
        "colab": {
          "base_uri": "https://localhost:8080/"
        },
        "outputId": "0828b01f-8215-4569-aa0a-a93f8af3c563"
      },
      "execution_count": null,
      "outputs": [
        {
          "output_type": "stream",
          "name": "stdout",
          "text": [
            "1 is odd.\n",
            "2 is even.\n",
            "3 is odd.\n",
            "4 is even.\n",
            "5 is odd.\n"
          ]
        }
      ]
    },
    {
      "cell_type": "markdown",
      "source": [
        "#### if elif else（条件分岐）関数で制御文を書く"
      ],
      "metadata": {
        "id": "ZXEvIXTu4Cui"
      }
    },
    {
      "cell_type": "markdown",
      "source": [
        "if elif else（条件分岐）関数で制御文を書く流れ:\n",
        "\n",
        "if:もしもの条件\n",
        "elif; ifと違うもしもの条件\n",
        "else:前述全てと違った条件\n",
        "\n",
        "1. 数字リストを定義\n",
        "\n",
        "    numbers = [10, 5, -3, 0, 8]\n",
        "\n",
        "2.もしnumbersリスト中にnumがあるときの条件を制御する関数を書く\n",
        "\n",
        "    for num in numbers:\n",
        "\n",
        "3.num>0 の条件を制御する関数を書く\n",
        "\n",
        "        if num > 0:\n",
        "\n",
        "4.numは (+) のときにis a positive numberと書くことを表示命令とする\n",
        "\n",
        "num:数字\n",
        "\n",
        "f\"{num}:表示エリア{ }中にnumにあたる条件（数字）を表示させる\n",
        "\n",
        "            print(f\"{num} is a positive number.\")\n",
        "\n",
        "5.num<0 の条件を制御する関数を書く\n",
        "\n",
        "        elif num < 0:\n",
        "\n",
        "6.上記の命令と違った条件 numが（-）のときを表示する命令を書く\n",
        "\n",
        "\n",
        "            print(f\"{num} is a negative number.\")\n",
        "\n",
        "7.上記のnum +/- の条件と違ったnum（0)のときを表示する命令を書く\n",
        "\n",
        "        else:\n",
        "            print(f\"{num} is zero.\")\n",
        "\n",
        "8.\n",
        "\n",
        "10 is a positive number.\n",
        "\n",
        "5 is a positive number.\n",
        "\n",
        "-3 is a negative number.\n",
        "\n",
        "0 is zero.\n",
        "\n",
        "8 is a positive number.\n",
        "\n",
        "が表示される"
      ],
      "metadata": {
        "id": "D6NZTf3pBdR8"
      }
    },
    {
      "cell_type": "code",
      "source": [
        "#if elif else（条件分岐）関数で制御文を書く\n",
        "numbers = [10, 5, -3, 0, 8]\n",
        "\n",
        "for num in numbers:\n",
        "    if num > 0:\n",
        "        print(f\"{num} is a positive number.\")\n",
        "    elif num < 0:\n",
        "        print(f\"{num} is a negative number.\")\n",
        "    else:\n",
        "        print(f\"{num} is zero.\")"
      ],
      "metadata": {
        "id": "gdHnpCMYBCLi",
        "colab": {
          "base_uri": "https://localhost:8080/"
        },
        "outputId": "07141b75-18d8-445d-a127-397b4e392a3b"
      },
      "execution_count": null,
      "outputs": [
        {
          "output_type": "stream",
          "name": "stdout",
          "text": [
            "10 is a positive number.\n",
            "5 is a positive number.\n",
            "-3 is a negative number.\n",
            "0 is zero.\n",
            "8 is a positive number.\n"
          ]
        }
      ]
    },
    {
      "cell_type": "markdown",
      "source": [
        "#### for（繰り返し）関数で制御文を書く"
      ],
      "metadata": {
        "id": "jyMl6bRs4fDl"
      }
    },
    {
      "cell_type": "markdown",
      "source": [
        "for（繰り返し）関数で制御文を書く流れ:\n",
        "\n",
        "for関数でリストの要素を順番に変数に代入しながら繰り返し処理を行う制御文\n",
        "\n",
        "例1.nはリスト[  ]の「中in」にある「ための:for」条件と書く\n",
        "\n",
        "    for n in [1,2,3]:\n",
        "\n",
        "表示命令\n",
        "\n",
        "        print(n)\n",
        "\n",
        "例2.計算式を代入して表示命令をすることもできる\n",
        "\n",
        "        print(n*10)\n",
        "\n",
        "例3:別のfor関数で数字をレンジの形で表示させることができる\n",
        "\n",
        "nはレンジ( )の「中in」にある「ための:for」条件と書く\n",
        "\n",
        "（５）: 0~4\n",
        "\n",
        "    for n in range(5):\n",
        "\n",
        "表示命令\n",
        "\n",
        "        print(n)"
      ],
      "metadata": {
        "id": "VCexnTf7-_3C"
      }
    },
    {
      "cell_type": "code",
      "source": [
        "#例1:for（繰り返し）関数で制御文を書く\n",
        "for n in [1,2,3]:\n",
        "    print(n)"
      ],
      "metadata": {
        "colab": {
          "base_uri": "https://localhost:8080/"
        },
        "id": "U3S3dIhgvy8o",
        "outputId": "ba08ff00-ff15-4eb4-f346-57fea593498a"
      },
      "execution_count": null,
      "outputs": [
        {
          "output_type": "stream",
          "name": "stdout",
          "text": [
            "1\n",
            "2\n",
            "3\n"
          ]
        }
      ]
    },
    {
      "cell_type": "code",
      "source": [
        "#例2:for（繰り返し）関数で制御文を書く\n",
        "for n in [1,2,3]:\n",
        "    print(n*10)"
      ],
      "metadata": {
        "colab": {
          "base_uri": "https://localhost:8080/"
        },
        "id": "yMfp0UEJwDHu",
        "outputId": "fb936aad-3acd-4505-e474-7a4d90ddc3a3"
      },
      "execution_count": null,
      "outputs": [
        {
          "output_type": "stream",
          "name": "stdout",
          "text": [
            "10\n",
            "20\n",
            "30\n"
          ]
        }
      ]
    },
    {
      "cell_type": "code",
      "source": [
        "#例3:for（繰り返し）関数で制御文を書く\n",
        "for n in range(5):\n",
        "    print(n)"
      ],
      "metadata": {
        "colab": {
          "base_uri": "https://localhost:8080/"
        },
        "id": "MxeGDyG5wBM9",
        "outputId": "8397de77-3892-4976-c940-fbf0e6c67251"
      },
      "execution_count": null,
      "outputs": [
        {
          "output_type": "stream",
          "name": "stdout",
          "text": [
            "0\n",
            "1\n",
            "2\n",
            "3\n",
            "4\n"
          ]
        }
      ]
    },
    {
      "cell_type": "markdown",
      "source": [
        "#### while（繰り返し）関数で制御文を書く"
      ],
      "metadata": {
        "id": "pKeLlhwT5Zq2"
      }
    },
    {
      "cell_type": "markdown",
      "source": [
        "while（繰り返し）関数で制御文を書く流れ:\n",
        "\n",
        "while:条件が成立している間に処理を繰り返す制御条件\n",
        "\n",
        "1.変数 i の開始ポイントを 0 と決める\n",
        "\n",
        "    i = 0\n",
        "\n",
        "2. i<10 という「成立させる条件」を決める\n",
        "\n",
        "    while i < 10:\n",
        "\n",
        "3. i += 1はi = i + 1という意味で「繰り返し処理」条件を書く\n",
        "\n",
        "        i += 1\n",
        "\n",
        "4. i % 2 == 0は、iが2で割った余りが0と等しいかどうかを「判定する処理条件」を書く\n",
        "\n",
        "        if i % 2 == 0:\n",
        "\n",
        "5.\n",
        "\n",
        "繰り返し対象エリアはwhileより内側（インデント）に書く\n",
        "\n",
        "このエリア内に処理を繰り返して終わったた先頭に戻るよう「続き条件:continue」を書く\n",
        "\n",
        "            continue\n",
        "\n",
        "6.\n",
        "\n",
        "表示させる\n",
        "\n",
        "        print(i)\n",
        "\n",
        "\n",
        "7.\n",
        "\n",
        "1\n",
        "\n",
        "3\n",
        "\n",
        "5\n",
        "\n",
        "7\n",
        "\n",
        "9\n",
        "が表示される\n"
      ],
      "metadata": {
        "id": "G22j8u0C_D0b"
      }
    },
    {
      "cell_type": "code",
      "source": [
        "#while（繰り返し）関数で制御文を書く\n",
        "i = 0\n",
        "\n",
        "while i < 10:\n",
        "    i += 1\n",
        "    if i % 2 == 0:\n",
        "        continue\n",
        "    print(i)"
      ],
      "metadata": {
        "colab": {
          "base_uri": "https://localhost:8080/"
        },
        "id": "hxNRgQASyVO8",
        "outputId": "38537a0f-6c28-4db8-9ca1-e2d17b84cc47"
      },
      "execution_count": null,
      "outputs": [
        {
          "output_type": "stream",
          "name": "stdout",
          "text": [
            "1\n",
            "3\n",
            "5\n",
            "7\n",
            "9\n"
          ]
        }
      ]
    },
    {
      "cell_type": "markdown",
      "source": [
        "#### enumerate（行挙）関数で制御文を書く"
      ],
      "metadata": {
        "id": "6rNKtyL35-Vt"
      }
    },
    {
      "cell_type": "markdown",
      "source": [
        "enumerate（行挙）関数で制御文を書く流れ:\n",
        "\n",
        "1.リストを定義\n",
        "\n",
        "    fruits = [\"apple\", \"banana\", \"cherry\"]\n",
        "\n",
        "2. Enumerateの定義\n",
        "\n",
        "for index条件:変数をindexとする条件のため\n",
        "\n",
        "enumerate()関数:リストや他のシーケンス（タプル、文字列など）の要素に対して「インデックス:index」と要素のペアを返す「イテレータ:Iterator」を作成する関数\n",
        "\n",
        "enumerate関数で返す結果の表示例:\n",
        "\n",
        "Index 0: 要素0\n",
        "\n",
        "Index 1: 要素1\n",
        "\n",
        "Index 2: 要素2\n",
        "\n",
        "index変数に要素のインデックスが代入、fruit変数に要素・値が代入される制御文\n",
        "\n",
        "for インデックス変数, 変数 in enumerate(リスト):\n",
        "\n",
        "    for index, fruit in enumerate(fruits):\n",
        "\n",
        "3. 表示命令\n",
        "\n",
        "f\"Index{index}:表示エリア{ }中にindexにあたる条件（数字）を表示させる\n",
        "\n",
        "{fruit}:表示エリア{ }中にfruitにあたる条件（要素・値）を表示させる\n",
        "\n",
        "    print(f\"Index {index}: {fruit}\")\n",
        "\n",
        "4.以下のようにenumerate関数制御によってインデックス:要素の連番が表示される\n",
        "\n",
        "Index 0: apple\n",
        "\n",
        "Index 1: banana\n",
        "\n",
        "Index 2: cherry"
      ],
      "metadata": {
        "id": "HwLlJE0v_JZe"
      }
    },
    {
      "cell_type": "code",
      "source": [
        "#enumerate（行挙）関数で制御文を書く\n",
        "fruits = [\"apple\", \"banana\", \"cherry\"]\n",
        "for index, fruit in enumerate(fruits):\n",
        "    print(f\"Index {index}: {fruit}\")"
      ],
      "metadata": {
        "colab": {
          "base_uri": "https://localhost:8080/"
        },
        "id": "O5TmY1LhAGik",
        "outputId": "d0e66a7a-ffc2-4635-f3ab-4081079ebaf6"
      },
      "execution_count": null,
      "outputs": [
        {
          "output_type": "stream",
          "name": "stdout",
          "text": [
            "Index 0: apple\n",
            "Index 1: banana\n",
            "Index 2: cherry\n"
          ]
        }
      ]
    },
    {
      "cell_type": "markdown",
      "source": [
        "#### 内包表記の関数で制御文を書く"
      ],
      "metadata": {
        "id": "ll1VUOjn6hiH"
      }
    },
    {
      "cell_type": "markdown",
      "source": [
        "内包表記の関数で制御文を書く流れ:\n",
        "\n",
        "例1:\n",
        "\n",
        "1.空のリストを作成する\n",
        "\n",
        "    list = []  \n",
        "\n",
        " 2. レンジ(10):0 ～ 9のの「変数:x」条件「のため:for」制御文を書く\n",
        "\n",
        "    for x in range(10):\n",
        "\n",
        "3 メソッド .append で要素を作成した空のリストに「変数:x」を[ ]内包表記させる\n",
        "\n",
        "        list.append(x)\n",
        "\n",
        "4. 表示命令\n",
        "\n",
        "    print(list)\n",
        "\n",
        "5. [0, 1, 2, 3, 4, 5, 6, 7, 8, 9]が表示される\n",
        "\n",
        "例2:\n",
        "\n",
        "新たにlistの2号を作る、作ったlistと混合しないためにリスト名を番号つけて管理することができる\n",
        "\n",
        "空のリスト作らずに[ ]なかにレンジの数式をfor制御文で書いて定義する方法がある\n",
        "\n",
        "for x in range (10)：これは上記のレンジ制御文と同じ\n",
        "\n",
        "このレンジ制御文の前に数式 x * 2 を追記するだけで数式つきのfor制御文が書ける\n",
        "\n",
        "    list2 = [x * 2 for x in range (10)]\n",
        "\n",
        "\n",
        "表示命令（ここではlist2を表示させるのでlist2を( )中に書く）\n",
        "\n",
        "    print(list2)\n",
        "\n",
        "[0, 2, 4, 6, 8, 10, 12, 14, 16, 18]が表示される"
      ],
      "metadata": {
        "id": "lNwbK1yE_Xpl"
      }
    },
    {
      "cell_type": "code",
      "source": [
        "#例1:内包表記の関数で制御文を書く\n",
        "list = []\n",
        "\n",
        "for x in range(10):\n",
        "    list.append(x)\n",
        "\n",
        "print(list)"
      ],
      "metadata": {
        "colab": {
          "base_uri": "https://localhost:8080/"
        },
        "id": "sYJlk9Tq7qFq",
        "outputId": "8351bb32-7613-47bb-88d7-e31f39595395"
      },
      "execution_count": null,
      "outputs": [
        {
          "output_type": "stream",
          "name": "stdout",
          "text": [
            "[0, 1, 2, 3, 4, 5, 6, 7, 8, 9]\n"
          ]
        }
      ]
    },
    {
      "cell_type": "code",
      "source": [
        "##例2:内包表記の関数で制御文を書く\n",
        "list2 = [x * 2 for x in range (10)]\n",
        "\n",
        "print(list2)"
      ],
      "metadata": {
        "colab": {
          "base_uri": "https://localhost:8080/"
        },
        "id": "Hn6KQq_V9TEO",
        "outputId": "1efbe1a5-1856-43d5-ec96-7c5619a1447c"
      },
      "execution_count": null,
      "outputs": [
        {
          "output_type": "stream",
          "name": "stdout",
          "text": [
            "[0, 2, 4, 6, 8, 10, 12, 14, 16, 18]\n"
          ]
        }
      ]
    },
    {
      "cell_type": "markdown",
      "source": [
        "### Python言語の関数とlambda式作成\n"
      ],
      "metadata": {
        "id": "cU61G2okx9ah"
      }
    },
    {
      "cell_type": "markdown",
      "source": [
        "関数とlambda式作成流れ:\n",
        "\n",
        "2種類のlambda関数の定義し方がある\n",
        "\n",
        "例1:\n",
        "\n",
        "def: definitionによる定義する方法:\n",
        "\n",
        "def 関数名（引数）\n",
        "\n",
        "    def radian(x):\n",
        "\n",
        "return 戻り数の数式\n",
        "\n",
        "        return x / 180 * 3.1415\n",
        "\n",
        "例2:\n",
        "\n",
        "lambda 引数：戻り値のある関数による定義する方法:\n",
        "\n",
        "    lambda_radian = (lambda x:x / 180 * 3.1415)\n",
        "\n",
        "ラムダ関数を用いて度数からラジアンに変換する関数を定義する実行例：\n",
        "\n",
        "1. Lambda定義\n",
        "\n",
        "ラジアン（radian）:角度の単位\n",
        "\n",
        "1ラジアン:半径と弧の長さが等しい場合の中心角が約57.3度（π/180）に相当する\n",
        "\n",
        "ラジアン = (角度 * π) / 180\n",
        "\n",
        "lambda x:ラムダ関数 lambda_radian は、度数 x を入力として（ ）中に受け取り\n",
        "\n",
        "x / 180 * 3.1415 ：計算によってラジアンに変換する\n",
        "\n",
        "    lambda_radian = (lambda x:x / 180 * 3.1415)\n",
        "\n",
        "2.条件の0度から360度まで90度ずつの角度に対して繰り返し制御文（for ループ）\n",
        "\n",
        "    for x in range(0,360,90):\n",
        "\n",
        " 3.ラムダ関数を用いて度数をラジアンに変換させて表示すると命令\n",
        "\n",
        " 度:{} 度数の表示エリア\n",
        "\n",
        " ラジアン:{:.2f}' ２桁の表示命令\n",
        "\n",
        " .format(x, lambda_radian(x) lambda計算結果が値で表示される\n",
        "\n",
        "        print('度:{},ラジアン:{:.2f}'.format(x, lambda_radian(x)))\n",
        "\n",
        "4.\n",
        "\n",
        "\n",
        "以下のように指定した順で表示される\n",
        "\n",
        "度:0,ラジアン:0.00\n",
        "\n",
        "度:90,ラジアン:1.57\n",
        "\n",
        "度:180,ラジアン:3.14\n",
        "\n",
        "度:270,ラジアン:4.71\n"
      ],
      "metadata": {
        "id": "jEoEkcVEYull"
      }
    },
    {
      "cell_type": "code",
      "source": [
        "#def方法による関数とlambda式作成\n",
        "def radian(x):\n",
        "    return x / 180 * 3.1415\n",
        "for x in range(0,360,90):\n",
        "    print('度:{},ラジアン:{:.2f}'.format(x, lambda_radian(x)))"
      ],
      "metadata": {
        "colab": {
          "base_uri": "https://localhost:8080/"
        },
        "id": "lRS6DlQcE4e1",
        "outputId": "04de009e-2344-4f6b-b517-f044fa2db271"
      },
      "execution_count": null,
      "outputs": [
        {
          "output_type": "stream",
          "name": "stdout",
          "text": [
            "度:0,ラジアン:0.00\n",
            "度:90,ラジアン:1.57\n",
            "度:180,ラジアン:3.14\n",
            "度:270,ラジアン:4.71\n"
          ]
        }
      ]
    },
    {
      "cell_type": "code",
      "source": [
        "#dlambda引数方法による関数とlambda式作成\n",
        "lambda_radian = (lambda x:x / 180 * 3.1415)\n",
        "\n",
        "for x in range(0,360,90):\n",
        "    print('度:{},ラジアン:{:.2f}'.format(x, lambda_radian(x)))"
      ],
      "metadata": {
        "colab": {
          "base_uri": "https://localhost:8080/"
        },
        "id": "1hQcNuy3_aSS",
        "outputId": "4bfc9c58-7a9e-4f3a-b17f-7d3a07b516a9"
      },
      "execution_count": null,
      "outputs": [
        {
          "output_type": "stream",
          "name": "stdout",
          "text": [
            "度:0,ラジアン:0.00\n",
            "度:90,ラジアン:1.57\n",
            "度:180,ラジアン:3.14\n",
            "度:270,ラジアン:4.71\n"
          ]
        }
      ]
    },
    {
      "cell_type": "markdown",
      "source": [
        "### Python言語のクラス作成"
      ],
      "metadata": {
        "id": "nbNEGocCyAvK"
      }
    },
    {
      "cell_type": "markdown",
      "source": [
        "クラスの作成流れ:\n",
        "\n",
        "1. クラスの定義のフォーマット\n",
        "\n",
        "    class　クラス名：\n",
        "\n",
        "        def __init__(self, 引数, 引数,...):\n",
        "\n",
        "        def メソッド名(self, 引数, 引数,...):\n",
        "\n",
        "2. クラス名をFruitと定義する\n",
        "\n",
        "    class Fruit:\n",
        "\n",
        "\n",
        "3. Fruitクラスの中身（要素）のカテゴリー名（fruit, price）を定義する\n",
        "\n",
        "        def __init__(self, fruit, price):\n",
        "\n",
        "            self.fruit = fruit\n",
        "            \n",
        "            self.price = price\n",
        "\n",
        "4. 要素のカテゴリーをさらに細かく定義する\n",
        "\n",
        "要素 = クラス(\" \",    )\n",
        "\n",
        "    fruit1 = Fruit(\"リンゴ\", 300)\n",
        "\n",
        "    fruit2 = Fruit(\"メロン\", 500)\n",
        "\n",
        "5. 出力の定義をする(1行目の表示の定義）\n",
        "\n",
        "関数\"{要素1.要素} は {要素1の値段} 円です。\n",
        "\n",
        "１行目の表示命令\n",
        "\n",
        "    print(f\"{fruit1.fruit} は {fruit1.price} 円です。\")\n",
        "\n",
        "6. 出力の定義をする(2行目の表示の定義）\n",
        "\n",
        "def output(self):　出力をoutputと定義、selfメソッドで要素とリンクさせる\n",
        "\n",
        "        def output(self):\n",
        "\n",
        "7. 関数\"{selfメソッドの要素を代入} は果物です。と表示させる\n",
        "\n",
        "            print(f\"{self.fruit} は果物です。\")\n",
        "\n",
        "8. 2行目の表示命令\n",
        "\n",
        "要素1を出力する\n",
        "\n",
        "    fruit1.output()\n",
        "\n",
        "9. 要素2の出力定義や命令の説明は要素1と同じである\n",
        "\n",
        "    print(f\"{fruit2.fruit} は {fruit2.price} 円です。\")\n",
        "    \n",
        "    fruit2.output()\n",
        "\n",
        "10.\n",
        "\n",
        "以下のように要素名と値段が定義した表示のフォーマットで表示される\n",
        "\n",
        "リンゴ は 300 円です。\n",
        "\n",
        "リンゴ は果物です。\n",
        "\n",
        "メロン は 500 円です。\n",
        "\n",
        "メロン は果物です。\n",
        "\n",
        "\n",
        "\n",
        "\n",
        "\n",
        "\n"
      ],
      "metadata": {
        "id": "YW4rnYMvcTh-"
      }
    },
    {
      "cell_type": "code",
      "source": [
        "#クラスの作成\n",
        "class Fruit:\n",
        "    def __init__(self, fruit, price):\n",
        "        self.fruit = fruit\n",
        "        self.price = price\n",
        "\n",
        "    def output(self):\n",
        "        print(f\"{self.fruit} は果物です。\")\n",
        "\n",
        "fruit1 = Fruit(\"リンゴ\", 300)\n",
        "fruit2 = Fruit(\"メロン\", 500)\n",
        "\n",
        "print(f\"{fruit1.fruit} は {fruit1.price} 円です。\")\n",
        "fruit1.output()\n",
        "print(f\"{fruit2.fruit} は {fruit2.price} 円です。\")\n",
        "fruit2.output()"
      ],
      "metadata": {
        "colab": {
          "base_uri": "https://localhost:8080/"
        },
        "id": "kOrt-SHQHSME",
        "outputId": "695e86bc-ee33-409a-c954-a43eee6eb959"
      },
      "execution_count": null,
      "outputs": [
        {
          "output_type": "stream",
          "name": "stdout",
          "text": [
            "リンゴ は 300 円です。\n",
            "リンゴ は果物です。\n",
            "メロン は 500 円です。\n",
            "メロン は果物です。\n"
          ]
        }
      ]
    },
    {
      "cell_type": "markdown",
      "source": [
        "### Pythonのパッケージ呼び出し"
      ],
      "metadata": {
        "id": "Sxcduu0byGpv"
      }
    },
    {
      "cell_type": "markdown",
      "source": [
        "パッケージ呼び出し流れ:\n",
        "\n",
        "クラス・関数・定数・などを定義さらたPythonのプログラムが「モジュール」と呼ばれ、\n",
        "\n",
        "その複数のモジュールで構成されたものが「パッケージ」と呼ばれる\n",
        "\n",
        "これらを使うにはパッケージ呼び出しが必要で、コードの最初にインポートをしてから\n",
        "モジュールが利用される\n",
        "\n",
        "1. 呼び出しをしたいパッケージをインポート\n",
        "\n",
        "    import numpy as np\n",
        "\n",
        "2. 定義\n",
        "\n",
        "このコードは、NumPyを使って3x3の行列（行列の要素が2次元配列で表現される）を作成する\n",
        "\n",
        "    a = np.array([[1,2,3],[4,5,6],[7,8,9]])\n",
        "\n",
        "3.表示命令\n",
        "\n",
        "    print(a)\n",
        "\n"
      ],
      "metadata": {
        "id": "wPQiuH9KcTfq"
      }
    },
    {
      "cell_type": "code",
      "source": [
        "#パッケージ呼び出し例\n",
        "import numpy as np\n",
        "\n",
        "a = np.array([[1,2,3],[4,5,6],[7,8,9]])\n",
        "print(a)"
      ],
      "metadata": {
        "colab": {
          "base_uri": "https://localhost:8080/"
        },
        "id": "5EWzEH5rPGR8",
        "outputId": "4dcd91ef-9210-4530-a484-cc769c3d2ee5"
      },
      "execution_count": null,
      "outputs": [
        {
          "output_type": "stream",
          "name": "stdout",
          "text": [
            "[[1 2 3]\n",
            " [4 5 6]\n",
            " [7 8 9]]\n"
          ]
        }
      ]
    }
  ]
}