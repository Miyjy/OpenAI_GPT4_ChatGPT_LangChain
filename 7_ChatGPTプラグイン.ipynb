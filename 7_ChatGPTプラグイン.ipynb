{
  "cells": [
    {
      "cell_type": "markdown",
      "metadata": {
        "id": "view-in-github",
        "colab_type": "text"
      },
      "source": [
        "<a href=\"https://colab.research.google.com/github/Miyjy/OpenAI_GPT4_ChatGPT_LangChain/blob/main/7_ChatGPT%E3%83%97%E3%83%A9%E3%82%B0%E3%82%A4%E3%83%B3.ipynb\" target=\"_parent\"><img src=\"https://colab.research.google.com/assets/colab-badge.svg\" alt=\"Open In Colab\"/></a>"
      ]
    },
    {
      "cell_type": "markdown",
      "metadata": {
        "id": "KziMqkmP0aJ3"
      },
      "source": [
        "# ChatGPTプラグイン\n",
        "\n",
        "ChatGPTをサードパーティーのWEBアプリケーションのAPIに接続するためのプラグインであり、GPT機能を外部の知識や計算能力と合わせて利用することが可能になる\n",
        "\n",
        "* リアルタイム情報取得: スポーツスコア、株価、最新ニュース\n",
        "\n",
        "* 知識ベース情報の取得: 会社のドキュメント、個人的なメモなど\n",
        "\n",
        "*ユーザーに変わって行動を実行: フライトの予約、食べ物の注文など\n",
        "\n",
        "ChatGPT plugins\n",
        "https://openai.com/blog/chatgpt-plugins\n"
      ]
    },
    {
      "cell_type": "markdown",
      "metadata": {
        "id": "IpS4zagrSJUD"
      },
      "source": [
        "<figure>\n",
        "<a href=\"https://openai.com/blog/chatgpt-plugins\"><img src='https://raw.githubusercontent.com/Miyjy/OpenAI_GPT4_ChatGPT_LangChain/main/7/figures/fig7.1.png' alt='OpenAIのプラグインホームページ' width='640' border='1'></a>\n",
        "</figure>\n",
        "\n",
        "図7.1. 出所:OpenAIプラグイン公式Webサイト |OpenAIのプラグインホームページ"
      ]
    },
    {
      "cell_type": "markdown",
      "metadata": {
        "id": "NV7lzvFZKbTC"
      },
      "source": [
        "# ChatGPT pluginsリスト\n",
        "\n",
        "|Plugins名|機能|\n",
        "|-|-|\n",
        "|AskYourPDF|PDFの要約と対話|\n",
        "|Expedia|旅行・宿泊・交通・観光の計画やリアルrタイム情報入手|\n",
        "|FiscalNote|世界の法制度や規制、訴訟関連など、公的機関のリアルタイム情報入手|\n",
        "|Instacart|お気に入り地元の食料品店に注文|\n",
        "|KAYAK|フライト、滞在場所、レンタカー、予算内で行けるおすすめ場所の情報入手|\n",
        "|Llarna|オンラインショップの価格の比較情報入手|\n",
        "|Milo|子育てサポートのためのTODOを管理|\n",
        "|OpenTable|レストランのおすすめ情報入手|\n",
        "|Shopify|ブランド品情報入手|\n",
        "|Speak|任意言語を学ぶ|\n",
        "|Tabelog|飲食店の情報入手|\n",
        "|WebPilot|Web検索による情報入手|\n",
        "|Wolfram|計算、数学、キュレーションされた知識、リアルタイム情報入手|\n",
        "|Zapier|Googleスプレッドシート、Trello、Gmail、HubSpot、Salesforce5,000以上のアプリと対話|\n"
      ]
    },
    {
      "cell_type": "markdown",
      "metadata": {
        "id": "EwVx-L2GS0G9"
      },
      "source": [
        "<figure>\n",
        "<a href=\"https://openai.com/blog/chatgpt-plugins\"><img src='https://raw.githubusercontent.com/Miyjy/OpenAI_GPT4_ChatGPT_LangChain/main/7/figures/fig7.2.png' alt='ChatGPT有料プランにて提供されているプラグイン一覧' width='640' border='1'></a>\n",
        "</figure>\n",
        "\n",
        "図7.2. 出所:OpenAIプラグイン公式Webサイト |ChatGPT有料プランにて提供されているプラグイン一覧"
      ]
    },
    {
      "cell_type": "markdown",
      "metadata": {
        "id": "fAYpgLVnTTIg"
      },
      "source": [
        "# ChatGPTプラグインの使い方\n",
        "\n",
        "* ChatGPTプラスプラン加入\n",
        "\n",
        "* ウエイティングリスト登録\n",
        "\n",
        "* ChatGPT PlusのGPT-4 -> Pluginsを選択 (Default/Bing/Pluginsという3オプションがある）\n",
        "\n",
        "* Plugin storeをクリック\n",
        "\n",
        "* 必要なプラグインアプリのアイコンを選択\n",
        "\n",
        "* インストール\n",
        "\n",
        "* プラグインの機能：\n",
        "\n",
        "ChatGPTが入力質問内容に対しインストールされたプラグインを使用して回答を出力してくれる\n",
        "\n",
        "<figure>\n",
        "<a href=\"https://openai.com/blog/chatgpt-plugins\"><img src='https://raw.githubusercontent.com/Miyjy/OpenAI_GPT4_ChatGPT_LangChain/main/7/figures/fig7.7.png' alt='ChatGPT有料プランにて提供されているプラグイン一覧' width='640' border='1'></a>\n",
        "</figure>\n",
        "\n",
        "図7.3. 出所:OpenAIプラグイン公式Webサイト |ChatGPTのプラグイン一機能による出力例"
      ]
    },
    {
      "cell_type": "markdown",
      "metadata": {
        "id": "ZTJ62DVwWioE"
      },
      "source": [
        "# ChatGPT(β版)プラグインの作り方\n",
        "\n",
        "Chat Plugins Beta公式サイト\n",
        "\n",
        "https://platform.openai.com/docs/plugins/introduction\n"
      ]
    },
    {
      "cell_type": "markdown",
      "metadata": {
        "id": "YyWG7fFceX0A"
      },
      "source": [
        "# プラグインを構築するエンドツーエンドフロー\n",
        "\n",
        "1. マニフェストファイルを作成し、yourdomain.com/.well-known/ai-plugin.jsonにホストする。\n",
        "\n",
        "   - このファイルには、プラグインに関するメタデータ（名前、ロゴなど）、必要な認証の詳細（認証の種類、OAuthのURLなど）、公開したいエンドポイントのOpenAPI仕様が含まれている。\n",
        "   - 最初は1つまたは2つのエンドポイントのみを公開し、テキストの長さを最小限に抑えるために少ないパラメータを指定する。\n",
        "\n",
        "2. ChatGPT UIでプラグインを登録\n",
        "   - トップのドロップダウンメニューからプラグインモデルを選択し、「プラグイン」、「プラグインストア」、最終的に「独自のプラグインを開発」を選択する。\n",
        "   - 認証が必要な場合、OAuth 2のclient_idとclient_secret、またはAPIキーを取得する。\n",
        "\n",
        "3. ユーザーがプラグインをアクティブ化\n",
        "   - ユーザーはChatGPT UIでプラグインを手動でアクティブ化する必要がある。 （ChatGPTはプラグインをデフォルトで使用しない。）\n",
        "   - OAuthが必要な場合、ユーザーはOAuthを経由してプラグインにリダイレクトされ、サインインする必要がある。\n",
        "\n",
        "4. ユーザーが会話を開始\n",
        "   - OpenAIはプラグインのコンパクトな説明をChatGPTにメッセージとして挿入し、エンドユーザーには見えないようになっている。\n",
        "   - ユーザーが関連する質問をすると、モデルはAPIコールを呼び出すことを選択する。POSTリクエストの場合、開発者は破壊的なアクションを回避するためのユーザー確認フローを構築する必要がある。\n",
        "   - モデルはAPIコールの結果をユーザーへの応答に組み込み、APIコールから返されたリンクを応答に含める。これらはリッチプレビューとして表示される（OpenGraphプロトコルを使用し、site_name、title、description、image、urlフィールドを抽出）。\n",
        "   - モデルはAPIからのデータをmarkdownでフォーマットでき、ChatGPT UIはmarkdownを自動的にレンダリングする。\n",
        "\n",
        "カリフォルニア州での会話プラグインヘッダー例{\"openai-subdivision-1-iso-code\": \"US-CA\"}"
      ]
    },
    {
      "cell_type": "markdown",
      "metadata": {
        "id": "yJRn3hkwcPM2"
      },
      "source": [
        "# プラグインの基本\n",
        "\n",
        "- プラグインの構築を開始する\n",
        "https://platform.openai.com/docs/plugins/getting-started\n",
        "\n",
        "- サンプルプラグインを探索する\n",
        "https://platform.openai.com/docs/plugins/examples\n",
        "\n",
        "- プラグインを本番環境で展開するための重要なステップを読む\n",
        "https://platform.openai.com/docs/plugins/production/rate-limits\n",
        "\n",
        "- プラグインのレビュープロセスについて学ぶ\n",
        "https://platform.openai.com/docs/plugins/review\n",
        "\n",
        "- OpenAPI Initiative\n",
        "https://www.openapis.org\n",
        "\n",
        "https://spec.openapis.org/oas/v3.1.0\n",
        "\n",
        "OpenAPIはWebAPI設計とドキュメント化を行うための仕様である。\n",
        "\n",
        "APIのリソース、エンドポイント、パラメーター、ヘッダー、認証方法などを定義できる。\n",
        "\n",
        "注意! OpenAIAPIとOpenAPIは別物である。"
      ]
    },
    {
      "cell_type": "markdown",
      "metadata": {
        "id": "TOwVcBKP7kSJ"
      },
      "source": [
        "# ChatGPT Retrieval Plugin\n",
        "\n",
        "* ローカルPCでOpenAI公式のChatGPTプラグイン実装「ChatGPT retrieval Plugin」を起動し、LangChainから操作する方法\n",
        "\n",
        "* 情報公開を許可した個人や団体の独自データを使って質問応答することができる\n",
        "\n",
        "プラグインの概要\n",
        "\n",
        "openai/chatgpt-retrieval-plugin\n",
        "\n",
        "https://github.com/openai/chatgpt-retrieval-plugin\n"
      ]
    },
    {
      "cell_type": "markdown",
      "metadata": {
        "id": "Uy-cmkOg9GUe"
      },
      "source": [
        "## ベクトルデータベースの準備\n",
        "\n",
        "ドキュメントの情報保持と検索にベクトルデータベースを使用\n",
        "\n",
        "データベースリスト\n",
        "\n",
        "*   pinecone\n",
        "https://www.pinecone.io\n",
        "*   weaviate\n",
        "*   zilliz\n",
        "*   milvus\n",
        "*   qdrant\n",
        "*   redis\n"
      ]
    },
    {
      "cell_type": "markdown",
      "metadata": {
        "id": "VifkFHELCuEA"
      },
      "source": [
        "#### ベクトルデータベース作成\n",
        "\n",
        "ベクトルデータベース作成画面に以下の内容を入力すれば、インデックス作成ができる。\n",
        "\n",
        "データベースのインデックス名: test\n",
        "\n",
        "Dimension: 1536\n",
        "\n",
        "Metric: euclidan\n",
        "\n",
        "Pod Type: starter (以外は有料版）"
      ]
    },
    {
      "cell_type": "markdown",
      "metadata": {
        "id": "YH9SVf8979P6"
      },
      "source": [
        "<figure>\n",
        "<a href=\"https://www.pinecone.io/\"><img src='https://raw.githubusercontent.com/Miyjy/OpenAI_GPT4_ChatGPT_LangChain/main/7/figures/fig7.8.png' alt='ベクトルデータベース作成画面' width='640' border='1'></a>\n",
        "</figure>\n",
        "\n",
        "図7.3. 出所:Pinecone公式Webサイト |ベクトルデータベース作成画面"
      ]
    },
    {
      "cell_type": "markdown",
      "metadata": {
        "id": "5AeM0lG3DMEW"
      },
      "source": [
        "#### PineCone API キー取得\n",
        "\n",
        "PineConeアカウント登録すれば、APIキーが取得できる。"
      ]
    },
    {
      "cell_type": "markdown",
      "metadata": {
        "id": "15q4srWyBit1"
      },
      "source": [
        "<figure>\n",
        "<a href=\"https://www.pinecone.io/\"><img src='https://raw.githubusercontent.com/Miyjy/OpenAI_GPT4_ChatGPT_LangChain/main/7/figures/fig7.9.png' alt='PineConeAPIキーの取得画面' width='640' border='1'></a>\n",
        "</figure>\n",
        "\n",
        "図7.5. 出所:Pinecone公式Webサイト |PineConeAPIキーの取得画面"
      ]
    },
    {
      "cell_type": "markdown",
      "metadata": {
        "id": "nhsGoYcuDwaC"
      },
      "source": [
        "### JWTトークンの準備\n",
        "\n",
        "\n",
        "JWTトークン（JSON Web Toke)は、APIへのリクエストを認証するための「シークレットトークン」である。\n",
        "\n",
        "トークン公式サイト\n",
        "\n",
        "https://jwt.io/\n",
        "\n",
        "このサイトの自動生成トークンを利用する\n"
      ]
    },
    {
      "cell_type": "markdown",
      "metadata": {
        "id": "ATvRo-NTFeIk"
      },
      "source": [
        "### Webアプリケーションの起動\n"
      ]
    },
    {
      "cell_type": "code",
      "source": [
        "#アプリ起動順番\n",
        "#Anaconda\n",
        "#Python3.10 Env\n",
        "#プラグインのダウンロード/レポジトリークローン\n",
        "# python -m venv myenv\n",
        "# myenv\\Scripts\\activate\n",
        "# pip install some-library\n",
        "# python your_script.py\n",
        "\n",
        "#プラグインのダウンロード/レポジトリークローン\n",
        "\n",
        "git clone https://github.com/swagger-api/swagger-ui\n",
        "\n",
        "git clone https://github.com/tiangolo/fastapi\n",
        "\n",
        "git clone https://github.com/openai/chatgpt-retrieval-plugin.git\n",
        "\n",
        "git clone https://github.com/python-poetry/poetry.git"
      ],
      "metadata": {
        "id": "M2zS-FNJeWrM"
      },
      "execution_count": null,
      "outputs": []
    },
    {
      "cell_type": "code",
      "source": [
        "# main.pyファイルを作成し、fastapiのサーバー接続を確認\n",
        "\n",
        "from typing import Union\n",
        "\n",
        "from fastapi import FastAPI\n",
        "\n",
        "app = FastAPI()\n",
        "\n",
        "\n",
        "@app.get(\"/\")\n",
        "def read_root():\n",
        "    return {\"Hello\": \"World\"}\n",
        "\n",
        "\n",
        "@app.get(\"/items/{item_id}\")\n",
        "def read_item(item_id: int, q: Union[str, None] = None):\n",
        "    return {\"item_id\": item_id, \"q\": q}"
      ],
      "metadata": {
        "id": "2B2yKm5kdyUu"
      },
      "execution_count": null,
      "outputs": []
    },
    {
      "cell_type": "code",
      "source": [
        "from enum import Enum\n",
        "\n",
        "from fastapi import FastAPI\n",
        "\n",
        "\n",
        "class ModelName(str, Enum):\n",
        "    chapter1 = \"第1章\"\n",
        "    chapter2 = \"第2章\"\n",
        "    chapter3 = \"第３章\"\n",
        "\n",
        "\n",
        "app = FastAPI()\n",
        "\n",
        "\n",
        "@app.get(\"/models/{model_name}\")\n",
        "async def get_model(model_name: ModelName):\n",
        "    if model_name is ModelName.chapter1:\n",
        "        return {\"model_name\": model_name, \"message\": \"データフロント 夜の煌びやかなネオ東京。高層ビルが連なり、ネオンが街を彩る。その街で、赤いフードをかぶった少女・ミコは、違法なデータカウリアを運ぶ配達員として働いていた。彼女は母親が病に倒れ、その治療費を稼ぐためにデータカウリアに身を投じていた。 ある日、ミコは重要なデータを運ぶ任務を受ける。そのデータは、巨大企業「ウルフ・コーポレーション」による市民への悪辣な支配を暴く情報が詰まっていた。彼女はデータを受け取り、目的地へ向かうことに\"}\n",
        "\n",
        "    if model_name.value == \"第2章\":\n",
        "        return {\"model_name\": model_name, \"message\": \"ウルフ・コーポレーションの罠 ミコは、目的地にあるバー「グランマズ・ハウス」へ向かう途中で、ウルフ・コーポレーションのエージェントに追われる。彼らは、赤ずきんちゃんと呼ばれるデータカウリアの噂を聞きつけ、データを奪い取ろうとしていた。ミコは狡猾にエージェントたちを撒き、バーへとたどり着く。\"}\n",
        "\n",
        "    return {\"model_name\": model_name, \"message\": \"裏切りと再会 バー「グランマズ・ハウス」で、ミコはデータの受け取り人・リョウを待っていた。リョウは彼女の幼馴染であり、彼もまたウルフ・コーポレーションと戦うハッカー集団の一員だった。しかし、リョウはミコに裏切られた気持ちでいっぱいで、彼女がデータカウリアに身を投じたことに怒っていた。 それでも、ミコはリョウにデータを渡し、ウルフ・コーポレーションへの反撃を信じることに。二人は共に、ウルフ・コーポレーションの陰謀を暴き、市民たちを救う決意を固める。\"}\n"
      ],
      "metadata": {
        "id": "oz_P9hgjfHUM"
      },
      "execution_count": null,
      "outputs": []
    },
    {
      "cell_type": "code",
      "source": [
        "# $ uvicorn main:app --reloadを実行すると下記のようにurlが表示される\n",
        "\n",
        "# (env) C:\\Users\\user\\env>cd C:\\Users\\user\\env\\fastapi-master\\\n",
        "# (env) C:\\Users\\user\\env\\fastapi-master>python main.py\n",
        "# (env) C:\\Users\\user\\env\\fastapi-master>uvicorn main:app --reload\n",
        "\n",
        "# INFO:     Uvicorn running on http://127.0.0.1:8000 (Press CTRL+C to quit)\n",
        "# INFO:     Started reloader process [000000]\n",
        "# INFO:     Started server process [00000]\n",
        "# INFO:     Waiting for application startup.\n",
        "# INFO:     Application startup complete."
      ],
      "metadata": {
        "id": "xDstt5yzrJGV"
      },
      "execution_count": null,
      "outputs": []
    },
    {
      "cell_type": "markdown",
      "source": [
        "<figure>\n",
        "<a href=\"https://github.com/tiangolo/fastapi\"><img src='https://raw.githubusercontent.com/Miyjy/OpenAI_GPT4_ChatGPT_LangChain/main/7/figures/fig7.14.png' alt='実行後に表示されるResponse画面例' width='640' border='1'></a>\n",
        "</figure>\n",
        "\n",
        "図7.6. 出所:miyjy github公式サイト |実行後に表示されるResponse画面例"
      ],
      "metadata": {
        "id": "evbvgqubfI2N"
      }
    },
    {
      "cell_type": "code",
      "source": [
        "$cd chatgpt-retrieval-plugin\n",
        "$pip install poetry\n",
        "$poetry env use python3.10\n",
        "$poetry install"
      ],
      "metadata": {
        "id": "UpoEmEp0YY2o"
      },
      "execution_count": null,
      "outputs": []
    },
    {
      "cell_type": "markdown",
      "source": [
        "####環境変数の準備\n",
        "\n",
        "ローカルPCのシステム環境変数の設定をする必要がある。\n",
        "\n",
        "|環境変数|設定する値例|\n",
        "|-|-|\n",
        "|DATASTORE|pinecone|\n",
        "|BEARER_TOKEN|JWTトークン|\n",
        "|OPENAI_API_KEY|OpenAI APIキー|\n",
        "|PINECONE_API_KEY|PineconeのAPI|\n",
        "|PINECONE_ENVIRONMENT|Pineconeの環境|\n",
        "|PINECONE_INDEX|Pineconeのインデックス名|"
      ],
      "metadata": {
        "id": "EHdRWGGie00G"
      }
    },
    {
      "cell_type": "code",
      "source": [
        "$poetry run start\n",
        "\n",
        "# $ uvicorn main:app --reloadを実行すると下記のようにurlが表示される\n",
        "\n",
        "# INFO:     Uvicorn running on http://127.0.0.1:8000 (Press CTRL+C to quit)\n",
        "# INFO:     Started reloader process [28720]\n",
        "# INFO:     Started server process [28722]\n",
        "# INFO:     Waiting for application startup.\n",
        "# INFO:     Application startup complete."
      ],
      "metadata": {
        "id": "7Y1FD4PDYKHm"
      },
      "execution_count": null,
      "outputs": []
    },
    {
      "cell_type": "markdown",
      "source": [
        "### WebアプリケーションSwagger UIへアクセス\n",
        "\n",
        "* http://127.0.0.1:8000/docsにアクセス\n",
        "\n",
        "*Swagger UIのAuthorizeボタンを押す（操作に必要なhtmlコードを用意）\n"
      ],
      "metadata": {
        "id": "6wDL6aA0imoK"
      }
    },
    {
      "cell_type": "markdown",
      "source": [
        "<figure>\n",
        "<a href=\"https://github.com/tiangolo/fastapi\"><img src='https://raw.githubusercontent.com/Miyjy/OpenAI_GPT4_ChatGPT_LangChain/main/7/figures/fig7.11.png' alt='実行後に表示されるResponse画面例' width='640' border='1'></a>\n",
        "</figure>\n",
        "\n",
        "図7.6. 出所:miyjy github公式サイト |実行後に表示されるResponse画面例"
      ],
      "metadata": {
        "id": "SIxHDcx4ZVEP"
      }
    },
    {
      "cell_type": "markdown",
      "source": [
        "### インデックスの初期データの追加"
      ],
      "metadata": {
        "id": "x_WdxiAMcKps"
      }
    },
    {
      "cell_type": "code",
      "source": [
        "#このファイルをアップロードし例のようにデータを追加\n",
        "\n",
        "C:\\user\\user\\chatgpt-retrieval-plugin\\scripts\\process_json\\example.json\n",
        "\n",
        "\n",
        "#アップロードファイルの中身の例\n",
        "\n",
        "[\n",
        "  {\n",
        "    \"id\": \"1\",\n",
        "    \"text\": \"第1章：データフロント 夜の煌びやかなネオ東京。高層ビルが連なり、ネオンが街を彩る。その街で、赤いフードをかぶった少女・ミコは、違法なデータカウリアを運ぶ配達員として働いていた。彼女は母親が病に倒れ、その治療費を稼ぐためにデータカウリアに身を投じていた。 ある日、ミコは重要なデータを運ぶ任務を受ける。そのデータは、巨大企業「ウルフ・コーポレーション」による市民への悪辣な支配を暴く情報が詰まっていた。彼女はデータを受け取り、目的地へ向かうことに.\",\n",
        "    \"source\": \"file\",\n",
        "    \"source_id\": \"https://.json\",\n",
        "    \"url\": \"https://\",\n",
        "    \"created_at\": \"2021-01-01T12:00:00Z\",\n",
        "    \"author\": \"著者名\"\n",
        "  },\n",
        "\n",
        "  {\n",
        "    \"id\": \"1\",\n",
        "    \"text\": \"第2章：ウルフ・コーポレーションの罠 ミコは、目的地にあるバー「グランマズ・ハウス」へ向かう途中で、ウルフ・コーポレーションのエージェントに追われる。彼らは、赤ずきんちゃんと呼ばれるデータカウリアの噂を聞きつけ、データを奪い取ろうとしていた。ミコは狡猾にエージェントたちを撒き、バーへとたどり着く。\",\n",
        "    \"source\": \"file\",\n",
        "    \"source_id\": \"https://.json\",\n",
        "    \"url\": \"https://\",\n",
        "    \"created_at\": \"2021-01-01T12:00:00Z\",\n",
        "    \"author\": \"著者名\"\n",
        "  },\n",
        "  {\n",
        "    \"id\": \"1\",\n",
        "    \"text\": \"第3章：裏切りと再会 バー「グランマズ・ハウス」で、ミコはデータの受け取り人・リョウを待っていた。リョウは彼女の幼馴染であり、彼もまたウルフ・コーポレーションと戦うハッカー集団の一員だった。しかし、リョウはミコに裏切られた気持ちでいっぱいで、彼女がデータカウリアに身を投じたことに怒っていた。 それでも、ミコはリョウにデータを渡し、ウルフ・コーポレーションへの反撃を信じることに。二人は共に、ウルフ・コーポレーションの陰謀を暴き、市民たちを救う決意を固める。\",\n",
        "    \"source\": \"file\",\n",
        "    \"source_id\": \"https://.json\",\n",
        "    \"url\": \"https://\",\n",
        "    \"created_at\": \"2021-01-01T12:00:00Z\",\n",
        "    \"author\": \"著者名\"\n",
        "  }\n",
        "\n",
        "]\n"
      ],
      "metadata": {
        "id": "uPWhIabShgMb"
      },
      "execution_count": null,
      "outputs": []
    },
    {
      "cell_type": "markdown",
      "source": [
        "### Webアプリケーションの動作確認\n",
        "\n",
        "* http://127.0.0.1:8000/docsにアクセス\n",
        "\n",
        "*Swagger UIのAuthorizeボタンを押す（操作に必要なhtmlコードを用意）\n",
        "\n",
        "*ValueにJWTトークンを入力しAuthorizeを押す\n",
        "\n",
        "*「/query」を開き、「Try it out」ボタンを押す\n",
        "\n",
        "*Request bodyに下記のパラメーターを入力する\n",
        "\n",
        "        {\n",
        "            \"queries\":[\n",
        "                {\n",
        "                    \"query\": \"ミコの幼馴染の名前は？\",\n",
        "                    \"top_k\":2\n",
        "                }\n",
        "            ]\n",
        "        }\n",
        "\n",
        "* Executeを押す\n",
        "\n",
        "* Responseの確認"
      ],
      "metadata": {
        "id": "KQsHKNJ-c27B"
      }
    },
    {
      "cell_type": "code",
      "source": [
        "   {\n",
        "        \"queries\":[\n",
        "            {\n",
        "                \"query\": \"ミコの幼馴染の名前は？\",\n",
        "                \"top_k\":2\n",
        "            }\n",
        "        ]\n",
        "    }"
      ],
      "metadata": {
        "id": "WdZt_51TNoik"
      },
      "execution_count": null,
      "outputs": []
    },
    {
      "cell_type": "markdown",
      "source": [
        "<figure>\n",
        "<a href=\"https://github.com/tiangolo/fastapi\"><img src='https://raw.githubusercontent.com/Miyjy/OpenAI_GPT4_ChatGPT_LangChain/main/7/figures/fig7.11.png' alt='実行後に表示されるResponse画面例' width='640' border='1'></a>\n",
        "</figure>\n",
        "\n",
        "図7.6. 出所:miyjy github公式サイト |実行後に表示されるResponse画面例（準備中）"
      ],
      "metadata": {
        "id": "NJhHtHrhdgLs"
      }
    },
    {
      "cell_type": "markdown",
      "source": [
        "### LangChainからの操作確認"
      ],
      "metadata": {
        "id": "6fk09EnNi4Wd"
      }
    },
    {
      "cell_type": "code",
      "source": [
        "# $ pip install jupyter\n",
        "# $jupyter notebook"
      ],
      "metadata": {
        "id": "BDvVipxgdyJX"
      },
      "execution_count": null,
      "outputs": []
    },
    {
      "cell_type": "code",
      "source": [
        "!pip install kaleido\n",
        "!pip install python-multipart"
      ],
      "metadata": {
        "id": "1901ttJ-ibiB"
      },
      "execution_count": null,
      "outputs": []
    },
    {
      "cell_type": "code",
      "source": [
        "!apt-get update\n",
        "!apt-get install python3.10-venv\n",
        "!pip install poetry\n",
        "!pip install fastapi\n",
        "!pip install uvicorn\n",
        "!pip install \"uvicorn[standard]\"\n",
        "!pip install lida"
      ],
      "metadata": {
        "id": "dMrevT2PiZjk"
      },
      "execution_count": null,
      "outputs": []
    },
    {
      "cell_type": "code",
      "source": [
        "!pip install FastAPI -q\n",
        "!pip install uvicorn -q\n",
        "!pip install fastapi"
      ],
      "metadata": {
        "id": "kS3JHSw8idQ9"
      },
      "execution_count": null,
      "outputs": []
    },
    {
      "cell_type": "code",
      "source": [
        "!python3 -m venv chatgpt-retriever-env\n",
        "!source chatgpt-retriever-env/bin/activate"
      ],
      "metadata": {
        "id": "90VkWQm1d4sT"
      },
      "execution_count": null,
      "outputs": []
    },
    {
      "cell_type": "code",
      "source": [
        "!pip install requests\n",
        "!pip install -q transformers"
      ],
      "metadata": {
        "id": "MhkivT6Aie8Z"
      },
      "execution_count": null,
      "outputs": []
    },
    {
      "cell_type": "code",
      "source": [
        "# パッケージのインストール\n",
        "!pip install langchain==0.0.303\n",
        "!pip install --upgrade langchain"
      ],
      "metadata": {
        "id": "-Svv8gNYc5XD"
      },
      "execution_count": null,
      "outputs": []
    },
    {
      "cell_type": "code",
      "source": [
        "!pip install openai"
      ],
      "metadata": {
        "id": "9n8_VSoUikW3"
      },
      "execution_count": null,
      "outputs": []
    },
    {
      "cell_type": "code",
      "execution_count": null,
      "metadata": {
        "id": "7UFXIF6R3Lv5"
      },
      "outputs": [],
      "source": [
        "# 環境変数の準備\n",
        "import os\n",
        "os.environ[\"OPENAI_API_KEY\"] = \"key\""
      ]
    },
    {
      "cell_type": "code",
      "source": [
        "!pip install pinecone-client"
      ],
      "metadata": {
        "id": "cqnAcFThinq2"
      },
      "execution_count": null,
      "outputs": []
    },
    {
      "cell_type": "code",
      "execution_count": null,
      "metadata": {
        "id": "08pz5Xim4edp"
      },
      "outputs": [],
      "source": [
        "from langchain.retrievers import ChatGPTPluginRetriever\n",
        "\n",
        "# Provide a valid bearer_token\n",
        "bearer_token = \"key\"\n",
        "\n",
        "\n",
        "#リトリーバーの作成\n",
        "retriever = ChatGPTPluginRetriever(\n",
        "    url=\"http://\",\n",
        "    bearer_token=bearer_token\n",
        ")"
      ]
    },
    {
      "cell_type": "code",
      "execution_count": null,
      "metadata": {
        "id": "Nn56MoXhAL70"
      },
      "outputs": [],
      "source": [
        "from langchain.llms import OpenAI\n",
        "from langchain.chains import RetrievalQA\n",
        "\n",
        "# Create the chain with the retriever\n",
        "chain = RetrievalQA.from_chain_type(\n",
        "    llm=OpenAI(),\n",
        "    chain_type=\"stuff\",\n",
        "    retriever=retriever  # Use the custom retriever function\n",
        ")"
      ]
    },
    {
      "cell_type": "code",
      "execution_count": null,
      "metadata": {
        "id": "Xyw3dy38crhH"
      },
      "outputs": [],
      "source": [
        "import pinecone\n",
        "\n",
        "pinecone.init(\n",
        "\tapi_key='key',\n",
        "\tenvironment='gcp-starter'\n",
        ")\n",
        "index = pinecone.Index('test')"
      ]
    },
    {
      "cell_type": "code",
      "source": [
        "# インデックスへの質問応答\n",
        "print(chain.run(\"ミコの幼馴染の名前は？\"))"
      ],
      "metadata": {
        "id": "BpQmdUTY0ENH"
      },
      "execution_count": null,
      "outputs": []
    }
  ],
  "metadata": {
    "colab": {
      "provenance": [],
      "include_colab_link": true
    },
    "kernelspec": {
      "display_name": "Python 3 (ipykernel)",
      "language": "python",
      "name": "python3"
    },
    "language_info": {
      "codemirror_mode": {
        "name": "ipython",
        "version": 3
      },
      "file_extension": ".py",
      "mimetype": "text/x-python",
      "name": "python",
      "nbconvert_exporter": "python",
      "pygments_lexer": "ipython3",
      "version": "3.10.12"
    }
  },
  "nbformat": 4,
  "nbformat_minor": 0
}